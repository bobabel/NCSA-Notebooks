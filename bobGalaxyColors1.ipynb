{
 "cells": [
  {
   "cell_type": "code",
   "execution_count": 1,
   "id": "1f9f0fef-5415-4be0-832c-c07accb9fd29",
   "metadata": {},
   "outputs": [],
   "source": [
    "%load_ext autoreload\n",
    "%autoreload 2"
   ]
  },
  {
   "cell_type": "code",
   "execution_count": 2,
   "id": "f3467627-0466-4eac-b8ab-ab3e9d286d84",
   "metadata": {},
   "outputs": [],
   "source": [
    "%matplotlib inline\n",
    "#%matplotlib ipympl\n",
    "\n",
    "import warnings\n",
    "import numpy as np\n",
    "import matplotlib as mpl\n",
    "import matplotlib.pyplot as plt\n",
    "plt.style.use('seaborn-poster')\n",
    "from IPython.display import IFrame, display, Markdown\n",
    "plt.style.use('seaborn-talk')\n",
    "from astropy.io import ascii"
   ]
  },
  {
   "cell_type": "code",
   "execution_count": 3,
   "id": "df5e7da3-0d1b-4ef1-8297-6b860ef3766a",
   "metadata": {},
   "outputs": [],
   "source": [
    "import lsst.daf.butler as dafButler\n",
    "import lsst.daf.base as dafBase\n",
    "import lsst.geom\n",
    "import lsst.afw.table as afwTable"
   ]
  },
  {
   "cell_type": "markdown",
   "id": "91d5621d-a905-441f-bd12-fece9cfbbcff",
   "metadata": {},
   "source": [
    "DATA ACCESS"
   ]
  },
  {
   "cell_type": "code",
   "execution_count": 4,
   "id": "d4e94adc-c3ca-49dd-aa94-d779740d1ac6",
   "metadata": {},
   "outputs": [],
   "source": [
    "# Location of the DC2 Gen3 repository on this site\n",
    "repo = \"/repo/dc2\"\n",
    "\n",
    "# Collection should be the same on all sites\n",
    "collection='2.2i/runs/DP0.1'"
   ]
  },
  {
   "cell_type": "code",
   "execution_count": 5,
   "id": "bdeb8547-8c7f-49f8-b082-8a0b058fde7d",
   "metadata": {},
   "outputs": [],
   "source": [
    "# Create an instance of the butler to get the catalog\n",
    "butler = dafButler.Butler(repo,collections=collection)"
   ]
  },
  {
   "cell_type": "code",
   "execution_count": 6,
   "id": "cc6c82df-3764-4057-a97d-e002529449e0",
   "metadata": {},
   "outputs": [],
   "source": [
    "# For the rest of this tutorial, we are going to work with coadd data products\n",
    "#tract = 4851\n",
    "#patch = 29   #gen3 analog to gen2 patch id '1,4'\n",
    "tract = 3828\n",
    "patch = 32   #gen3 analog to gen2 patch id '1,4'\n",
    "bandList = [\"u\", \"g\", \"r\", \"i\", \"z\", \"y\"]\n",
    "filterList = bandList   # using filterList for consistency with cells folllowing below"
   ]
  },
  {
   "cell_type": "code",
   "execution_count": 7,
   "id": "1e5ebf94-04ed-4dbc-aaa7-e95729335896",
   "metadata": {},
   "outputs": [],
   "source": [
    "objects = []\n",
    "for filter in filterList:\n",
    "    dataId = {'band':filter, 'tract':tract, 'patch':patch}\n",
    "    objects.append(butler.get(\"deepCoadd_forced_src\", dataId=dataId))\n",
    "uSources, gSources, rSources, iSources, zSources, ySources = objects"
   ]
  },
  {
   "cell_type": "code",
   "execution_count": 8,
   "id": "fa95edcc-7400-4af5-9049-7e0e7e93e5e9",
   "metadata": {
    "tags": []
   },
   "outputs": [
    {
     "data": {
      "text/plain": [
       "0.9859018300464361"
      ]
     },
     "execution_count": 8,
     "metadata": {},
     "output_type": "execute_result"
    }
   ],
   "source": [
    "ySources['coord_ra'][3]"
   ]
  },
  {
   "cell_type": "code",
   "execution_count": 9,
   "id": "726e81d6-2aed-413a-9839-5e8fb517d0bd",
   "metadata": {},
   "outputs": [
    {
     "name": "stdout",
     "output_type": "stream",
     "text": [
      "spatially constant with mean: 57.544 error: 0\n"
     ]
    }
   ],
   "source": [
    "dataId = {'band':filter, 'tract':tract, 'patch':patch}\n",
    "dcal = butler.get(\"deepCoadd_calexp\", dataId=dataId)\n",
    "calib = dcal.getPhotoCalib()\n",
    "print(calib)"
   ]
  },
  {
   "cell_type": "code",
   "execution_count": 10,
   "id": "b71a4418-f50c-4415-b8af-67109fa3066a",
   "metadata": {},
   "outputs": [],
   "source": [
    "calibs = []\n",
    "for filter in filterList:\n",
    "    dataId = {'band':filter, 'tract':tract, 'patch':patch}\n",
    "    dcal = butler.get(\"deepCoadd_calexp\", dataId=dataId)\n",
    "    calib = dcal.getPhotoCalib()\n",
    "    calibs.append(calib)\n",
    "uCalib, gCalib, rCalib, iCalib, zCalib, yCalib = calibs"
   ]
  },
  {
   "cell_type": "code",
   "execution_count": 11,
   "id": "eed92123-a1cf-47e3-9c11-17cc33dec4a7",
   "metadata": {},
   "outputs": [
    {
     "data": {
      "text/plain": [
       "lsst.afw.image.PhotoCalib"
      ]
     },
     "execution_count": 11,
     "metadata": {},
     "output_type": "execute_result"
    }
   ],
   "source": [
    "type(uCalib)"
   ]
  },
  {
   "cell_type": "markdown",
   "id": "9a0a5e1e-9fda-4f1b-8c43-3694de498492",
   "metadata": {},
   "source": [
    "Non-deblended parent sources have deblend_nChild > 0, so we're just looking at deblended objects.\n",
    "Why are we not using 'detect_isPrimary' instead?\n",
    "Lee Kelvin: \"Currently, for the flag ‘detect_isPrimary’ to be True for any given visit level source, the source must have no deblended children (deblend_nChild == 0) and not be a sky source (sky_source is False). As a reminder, a sky source is a pseudo source injected into the detection list after source detection has taken place, randomly placed such that its footprint does not overlap with any other detected source footprint.\"\n",
    "\n",
    "I think modelfit_CModel_flag == True means there is a fit to the source.\n",
    "\n",
    "base_ClassificationExtendedness_value is 1. for galaxies and 0. for point sources\n",
    "\n",
    "Finally, set the signal-to-noise ratio to 10"
   ]
  },
  {
   "cell_type": "code",
   "execution_count": 12,
   "id": "a5aceb39-f71d-4c2f-9cf5-5bf67a621d59",
   "metadata": {},
   "outputs": [],
   "source": [
    "noChildren = iSources['deblend_nChild'] == 0\n",
    "isGoodFlux = ~iSources['modelfit_CModel_flag']\n",
    "isStellar = iSources['base_ClassificationExtendedness_value'] >= 1.\n",
    "snr = iSources['modelfit_CModel_instFlux']/iSources['modelfit_CModel_instFluxErr'] > 10\n",
    "\n",
    "star_flag = noChildren & isGoodFlux & isStellar & snr"
   ]
  },
  {
   "cell_type": "code",
   "execution_count": 13,
   "id": "d55b7395-d7f5-4c2b-8eac-ccfde537168e",
   "metadata": {},
   "outputs": [],
   "source": [
    "# get a match control, we will keep the default configuration\n",
    "mc = afwTable.MatchControl()\n",
    "\n",
    "# match our two catalogs, setting the match threshold to be one arcsecond\n",
    "matches = afwTable.matchRaDec(uSources[star_flag], iSources[star_flag],\n",
    "                              lsst.geom.Angle(1,lsst.geom.arcseconds), mc)"
   ]
  },
  {
   "cell_type": "code",
   "execution_count": 14,
   "id": "59b01260-f4e9-4505-87a2-5fb34687bd04",
   "metadata": {},
   "outputs": [],
   "source": [
    "matches2 = afwTable.matchRaDec(gSources[star_flag], iSources[star_flag],\n",
    "                              lsst.geom.Angle(1,lsst.geom.arcseconds), mc)"
   ]
  },
  {
   "cell_type": "code",
   "execution_count": 15,
   "id": "e877be57-2984-40bd-a0ea-ce096dd0a597",
   "metadata": {},
   "outputs": [],
   "source": [
    "matches3 = afwTable.matchRaDec(rSources[star_flag], iSources[star_flag],\n",
    "                              lsst.geom.Angle(1,lsst.geom.arcseconds), mc)"
   ]
  },
  {
   "cell_type": "code",
   "execution_count": 16,
   "id": "3d0ee8bb-e745-49d4-8ee7-8fc223635f86",
   "metadata": {},
   "outputs": [],
   "source": [
    "matches4 = afwTable.matchRaDec(zSources[star_flag], iSources[star_flag],\n",
    "                              lsst.geom.Angle(1,lsst.geom.arcseconds), mc)"
   ]
  },
  {
   "cell_type": "code",
   "execution_count": 17,
   "id": "085b4228-64fc-45f7-96a6-4dd5d4434341",
   "metadata": {},
   "outputs": [],
   "source": [
    "matches5 = afwTable.matchRaDec(ySources[star_flag], iSources[star_flag],\n",
    "                              lsst.geom.Angle(1,lsst.geom.arcseconds), mc)"
   ]
  },
  {
   "cell_type": "code",
   "execution_count": 18,
   "id": "bc434a9b-288d-41a9-807c-9caa5318903c",
   "metadata": {},
   "outputs": [
    {
     "data": {
      "text/plain": [
       "(8814, 8814, 8814, 8814, 8814)"
      ]
     },
     "execution_count": 18,
     "metadata": {},
     "output_type": "execute_result"
    }
   ],
   "source": [
    "# how many sources were actually matched?\n",
    "len(matches), len(matches2), len(matches3), len(matches4), len(matches5)"
   ]
  },
  {
   "cell_type": "code",
   "execution_count": 19,
   "id": "c37ba11b-18da-404b-b622-27d030c895c0",
   "metadata": {
    "tags": []
   },
   "outputs": [],
   "source": [
    "# lets examine the first element in the matches list\n",
    "# we can grab the record corresponding to this source in the i band catalog\n",
    "# using the first attribute\n",
    "#matches[0].first"
   ]
  },
  {
   "cell_type": "code",
   "execution_count": 20,
   "id": "58eca0a7-4fcc-4a7a-b6e4-abf00c0710f4",
   "metadata": {
    "tags": []
   },
   "outputs": [],
   "source": [
    "# likewise the second attribute gives us the record from the r band catalog\n",
    "#matches[0].second"
   ]
  },
  {
   "cell_type": "code",
   "execution_count": 21,
   "id": "4e5c88cb-0593-470b-980d-9ab2bb72e95c",
   "metadata": {},
   "outputs": [
    {
     "data": {
      "text/plain": [
       "0.0"
      ]
     },
     "execution_count": 21,
     "metadata": {},
     "output_type": "execute_result"
    }
   ],
   "source": [
    "#finally the angular seperation is given in radians in the distance attribute\n",
    "matches[0].distance"
   ]
  },
  {
   "cell_type": "code",
   "execution_count": 22,
   "id": "86fa30b4-a8b7-4277-b05f-c27c0e4ee8f8",
   "metadata": {},
   "outputs": [
    {
     "data": {
      "text/plain": [
       "Measurement(value=23.42055424262644792, error=0.0277575838035376693)"
      ]
     },
     "execution_count": 22,
     "metadata": {},
     "output_type": "execute_result"
    }
   ],
   "source": [
    "# use the calib object to get magnitudes\n",
    "# pass in a record and the name of the flux field you are interested in\n",
    "iCalib.instFluxToMagnitude(matches[0].first, 'modelfit_CModel')"
   ]
  },
  {
   "cell_type": "code",
   "execution_count": 23,
   "id": "9d8ec491-644e-411d-98fa-23b675ac970a",
   "metadata": {},
   "outputs": [
    {
     "data": {
      "text/plain": [
       "Text(0, 0.5, '$g, i, y$')"
      ]
     },
     "execution_count": 23,
     "metadata": {},
     "output_type": "execute_result"
    },
    {
     "data": {
      "image/png": "[encoded data removed]",
      "text/plain": [
       "<Figure size 748.8x514.8 with 1 Axes>"
      ]
     },
     "metadata": {
      "needs_background": "light"
     },
     "output_type": "display_data"
    }
   ],
   "source": [
    "# now we make some loops to grab all the magnitudes in the iband and rband\n",
    "# remember that the i band catalog is accessed with the first attribute\n",
    "# and the r band catalog is accessed with the second attribute\n",
    "uMag = [uCalib.instFluxToMagnitude(m.first, 'modelfit_CModel').value for m in matches]\n",
    "gMag = [gCalib.instFluxToMagnitude(m.first, 'modelfit_CModel').value for m in matches2]\n",
    "rMag = [rCalib.instFluxToMagnitude(m.first, 'modelfit_CModel').value for m in matches3]\n",
    "iMag = [iCalib.instFluxToMagnitude(m.second, 'modelfit_CModel').value for m in matches]\n",
    "zMag = [zCalib.instFluxToMagnitude(m.first, 'modelfit_CModel').value for m in matches4]\n",
    "yMag = [yCalib.instFluxToMagnitude(m.first, 'modelfit_CModel').value for m in matches5]\n",
    "\n",
    "uMag = np.array(uMag)\n",
    "gMag = np.array(gMag)\n",
    "rMag = np.array(rMag)\n",
    "iMag = np.array(iMag)\n",
    "zMag = np.array(zMag)\n",
    "yMag = np.array(yMag)\n",
    "\n",
    "#plt.scatter(np.array(zMag) - (iMag),iMag)\n",
    "plt.scatter(uMag, gMag, c='b')\n",
    "plt.scatter(rMag, iMag, c='r')\n",
    "plt.scatter(zMag, yMag, c='y')\n",
    "#plt.ylim([-1,4])\n",
    "#plt.xlim([-1,4])\n",
    "plt.xlabel('$u, r, z$')\n",
    "plt.ylabel('$g, i, y$')"
   ]
  },
  {
   "cell_type": "code",
   "execution_count": 24,
   "id": "16557abf-5211-450e-bd6c-57fe9d708fe9",
   "metadata": {},
   "outputs": [
    {
     "data": {
      "text/plain": [
       "(8814, 31804)"
      ]
     },
     "execution_count": 24,
     "metadata": {},
     "output_type": "execute_result"
    }
   ],
   "source": [
    "len(uMag),len(uSources)"
   ]
  },
  {
   "cell_type": "code",
   "execution_count": null,
   "id": "07ab8fa8-465a-4afb-a686-33aded0a7fb5",
   "metadata": {},
   "outputs": [],
   "source": []
  }
 ],
 "metadata": {
  "kernelspec": {
   "display_name": "LSST",
   "language": "python",
   "name": "lsst"
  },
  "language_info": {
   "codemirror_mode": {
    "name": "ipython",
    "version": 3
   },
   "file_extension": ".py",
   "mimetype": "text/x-python",
   "name": "python",
   "nbconvert_exporter": "python",
   "pygments_lexer": "ipython3",
   "version": "3.10.4"
  }
 },
 "nbformat": 4,
 "nbformat_minor": 5
}
