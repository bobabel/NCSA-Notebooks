{
 "cells": [
  {
   "cell_type": "markdown",
   "id": "e3a74ba3-1408-4948-ab3b-93c7cb192398",
   "metadata": {},
   "source": [
    "This is from Leanne Guy's DP0.1 tutorial. \n",
    "In PolyFit2 I got multidimensional features working with polynomial fits.\n",
    "Now I'm trying to scale the data properly, and then make a pipeline for all of it."
   ]
  },
  {
   "cell_type": "code",
   "execution_count": 1,
   "id": "d25ceb23-4ed3-468b-987d-34190b6821c4",
   "metadata": {},
   "outputs": [],
   "source": [
    "# Import general python packages\n",
    "import numpy as np\n",
    "import pandas as pd\n",
    "\n",
    "# Import the Rubin TAP service utilities\n",
    "from lsst.rsp import get_tap_service, retrieve_query\n",
    "\n",
    "# Astropy\n",
    "from astropy import units as u\n",
    "from astropy.coordinates import SkyCoord\n",
    "\n",
    "%matplotlib inline\n",
    "# %matplotlib ipympl # currently slow, but may be a good option in the future\n",
    "import matplotlib.pyplot as plt\n",
    "\n",
    "# Set the maximum number of rows to display from pandas\n",
    "pd.set_option('display.max_rows', 20)"
   ]
  },
  {
   "cell_type": "code",
   "execution_count": 2,
   "id": "2b82a5ee-d6e9-4020-87b6-09cae6ec4bcc",
   "metadata": {},
   "outputs": [],
   "source": [
    "# Ignore warnings when uncommented\n",
    "# from astropy.units import UnitsWarning\n",
    "# warnings.simplefilter(\"ignore\", category=UnitsWarning)"
   ]
  },
  {
   "cell_type": "code",
   "execution_count": 3,
   "id": "36a9ffe1-48d0-4bda-9888-d133bb2b760b",
   "metadata": {},
   "outputs": [],
   "source": [
    "# Get an instance of the TAP service\n",
    "service = get_tap_service()\n",
    "assert service is not None\n",
    "# assert service.baseurl == \"https://data.lsst.cloud/api/tap\""
   ]
  },
  {
   "cell_type": "code",
   "execution_count": 4,
   "id": "6eaa3921-954e-4cc4-983f-7d7eecd587d4",
   "metadata": {},
   "outputs": [],
   "source": [
    "# Define a reference position on the sky and cone radius in arcseconds\n",
    "coord = SkyCoord(ra=62.0*u.degree, dec=-37.0*u.degree, frame='icrs')\n",
    "radius = 0.1 * u.deg"
   ]
  },
  {
   "cell_type": "code",
   "execution_count": 5,
   "id": "274067b7-5422-435c-ab45-d9ae20450f70",
   "metadata": {},
   "outputs": [
    {
     "name": "stdout",
     "output_type": "stream",
     "text": [
      "SELECT obj.objectId, obj.ra, obj.dec, obj.mag_u, obj.mag_g,  obj.mag_r, obj.mag_i, obj.mag_z, obj.mag_y, obj.psFlux_u, obj.psFlux_g, obj.psFlux_r, obj.psFlux_i, obj.psFlux_z, obj.psFlux_y, obj.tract, obj.patch, truth.mag_r as truth_mag_r, truth.flux_u, truth.flux_g, truth.flux_r, truth.flux_i, truth.flux_z, truth.flux_y, truth.redshift FROM dp01_dc2_catalogs.object as obj JOIN dp01_dc2_catalogs.truth_match as truth ON truth.match_objectId = obj.objectId WHERE CONTAINS(POINT('ICRS', obj.ra, obj.dec),CIRCLE('ICRS', 62.0, -37.0, 0.1 )) = 1 AND truth.match_objectid >= 0 AND truth.is_good_match = 1AND obj.clean = 1 AND obj.good = 1AND obj.extendedness = 1\n"
     ]
    }
   ],
   "source": [
    "# Try looking at galaxies first\n",
    "# You'll want to add detect_isPrimary = True when you shift to DP0.2\n",
    "query = \"SELECT obj.objectId, obj.ra, obj.dec, obj.mag_u, obj.mag_g, \" \\\n",
    "        \" obj.mag_r, obj.mag_i, obj.mag_z, obj.mag_y, obj.psFlux_u, \" \\\n",
    "        \"obj.psFlux_g, obj.psFlux_r, obj.psFlux_i, obj.psFlux_z, \" \\\n",
    "        \"obj.psFlux_y, obj.tract, obj.patch, \" \\\n",
    "        \"truth.mag_r as truth_mag_r, \"\\\n",
    "        \"truth.flux_u, truth.flux_g, truth.flux_r, truth.flux_i, \" \\\n",
    "        \"truth.flux_z, truth.flux_y, truth.redshift \" \\\n",
    "        \"FROM dp01_dc2_catalogs.object as obj \" \\\n",
    "        \"JOIN dp01_dc2_catalogs.truth_match as truth \" \\\n",
    "        \"ON truth.match_objectId = obj.objectId \" \\\n",
    "        \"WHERE CONTAINS(POINT('ICRS', obj.ra, obj.dec),CIRCLE('ICRS', \" \\\n",
    "        + str(coord.ra.value) + \", \" + str(coord.dec.value) + \", \" \\\n",
    "        + str(radius.value) + \" )) = 1 \" \\\n",
    "        \"AND truth.match_objectid >= 0 \" \\\n",
    "        \"AND truth.is_good_match = 1\" \\\n",
    "        \"AND obj.clean = 1 AND obj.good = 1\" \\\n",
    "        \"AND obj.extendedness = 1\"\n",
    "print(query)"
   ]
  },
  {
   "cell_type": "code",
   "execution_count": 6,
   "id": "b85c7931-1f80-41e8-8e17-8e059b97eb56",
   "metadata": {},
   "outputs": [
    {
     "name": "stderr",
     "output_type": "stream",
     "text": [
      "WARNING: UnitsWarning: Unit 'nmgy' not supported by the VOUnit standard.  [astropy.units.format.vounit]\n"
     ]
    },
    {
     "data": {
      "text/html": [
       "<pre style=\"margin: 0.1em;\n",
       "padding-left: 0.25em;\n",
       "border-left-style: solid;\n",
       "font-family: var(--jp-code-font-family);\n",
       "font-size: var(--jp-code-font-size);\n",
       "line-height: var(--jp-code-line-height);\n",
       "\"><span style=\"color: var(--jp-warn-color2)\">astropy</span> <span style=\"color: var(--jp-warn-color0)\">WARNING</span>: UnitsWarning: Unit &#x27;nmgy&#x27; not supported by the VOUnit standard. </pre>"
      ],
      "text/plain": [
       "<IPython.core.display.HTML object>"
      ]
     },
     "metadata": {},
     "output_type": "display_data"
    },
    {
     "data": {
      "text/plain": [
       "10957"
      ]
     },
     "execution_count": 6,
     "metadata": {},
     "output_type": "execute_result"
    }
   ],
   "source": [
    "# For more detailed analysis of results, converting\n",
    "# to a pandas dataframe is often very useful (\"df\" stands for \"dataframe\")\n",
    "df = service.search(query).to_table().to_pandas()\n",
    "\n",
    "# Use an assertion to make sure we got the correct number of results.\n",
    "# assert len(df) == 15670\n",
    "len(df.ra)"
   ]
  },
  {
   "cell_type": "code",
   "execution_count": 7,
   "id": "1b70b743-5272-4fdf-b5a7-bf2c1514ea3b",
   "metadata": {},
   "outputs": [],
   "source": [
    "# Get rid of all rows that contain NaN values.\n",
    "# Thre are aother fixes for this, like imputation.\n",
    "df2 = df.dropna(axis=0)"
   ]
  },
  {
   "cell_type": "code",
   "execution_count": 8,
   "id": "a59dc91b-aa80-431b-a1c4-809aea25d46d",
   "metadata": {},
   "outputs": [
    {
     "data": {
      "text/plain": [
       "8139"
      ]
     },
     "execution_count": 8,
     "metadata": {},
     "output_type": "execute_result"
    }
   ],
   "source": [
    "len(df2)"
   ]
  },
  {
   "cell_type": "code",
   "execution_count": 9,
   "id": "cbd16275-f306-479c-9f19-6936eb047931",
   "metadata": {
    "tags": []
   },
   "outputs": [
    {
     "name": "stderr",
     "output_type": "stream",
     "text": [
      "/tmp/ipykernel_1714/1239832705.py:6: SettingWithCopyWarning: \n",
      "A value is trying to be set on a copy of a slice from a DataFrame.\n",
      "Try using .loc[row_indexer,col_indexer] = value instead\n",
      "\n",
      "See the caveats in the documentation: https://pandas.pydata.org/pandas-docs/stable/user_guide/indexing.html#returning-a-view-versus-a-copy\n",
      "  df2['ugcolor'] = ugcolor\n",
      "/tmp/ipykernel_1714/1239832705.py:7: SettingWithCopyWarning: \n",
      "A value is trying to be set on a copy of a slice from a DataFrame.\n",
      "Try using .loc[row_indexer,col_indexer] = value instead\n",
      "\n",
      "See the caveats in the documentation: https://pandas.pydata.org/pandas-docs/stable/user_guide/indexing.html#returning-a-view-versus-a-copy\n",
      "  df2['grcolor'] = grcolor\n",
      "/tmp/ipykernel_1714/1239832705.py:8: SettingWithCopyWarning: \n",
      "A value is trying to be set on a copy of a slice from a DataFrame.\n",
      "Try using .loc[row_indexer,col_indexer] = value instead\n",
      "\n",
      "See the caveats in the documentation: https://pandas.pydata.org/pandas-docs/stable/user_guide/indexing.html#returning-a-view-versus-a-copy\n",
      "  df2['ricolor'] = ricolor\n",
      "/tmp/ipykernel_1714/1239832705.py:9: SettingWithCopyWarning: \n",
      "A value is trying to be set on a copy of a slice from a DataFrame.\n",
      "Try using .loc[row_indexer,col_indexer] = value instead\n",
      "\n",
      "See the caveats in the documentation: https://pandas.pydata.org/pandas-docs/stable/user_guide/indexing.html#returning-a-view-versus-a-copy\n",
      "  df2['izcolor'] = izcolor\n",
      "/tmp/ipykernel_1714/1239832705.py:10: SettingWithCopyWarning: \n",
      "A value is trying to be set on a copy of a slice from a DataFrame.\n",
      "Try using .loc[row_indexer,col_indexer] = value instead\n",
      "\n",
      "See the caveats in the documentation: https://pandas.pydata.org/pandas-docs/stable/user_guide/indexing.html#returning-a-view-versus-a-copy\n",
      "  df2['zycolor'] = zycolor\n"
     ]
    }
   ],
   "source": [
    "ugcolor = df2['mag_u'] - df2['mag_g']\n",
    "grcolor = df2['mag_g'] - df2['mag_r']\n",
    "ricolor = df2['mag_r'] - df2['mag_i']\n",
    "izcolor = df2['mag_i'] - df2['mag_z']\n",
    "zycolor = df2['mag_z'] - df2['mag_y']\n",
    "df2['ugcolor'] = ugcolor\n",
    "df2['grcolor'] = grcolor\n",
    "df2['ricolor'] = ricolor\n",
    "df2['izcolor'] = izcolor\n",
    "df2['zycolor'] = zycolor"
   ]
  },
  {
   "cell_type": "code",
   "execution_count": 10,
   "id": "1b09d629-1344-4639-8859-9a74172fb923",
   "metadata": {},
   "outputs": [
    {
     "data": {
      "text/plain": [
       "Index(['redshift', 'objectId', 'ra', 'dec', 'mag_u', 'mag_g', 'mag_r', 'mag_i',\n",
       "       'mag_z', 'mag_y', 'psFlux_u', 'psFlux_g', 'psFlux_r', 'psFlux_i',\n",
       "       'psFlux_z', 'psFlux_y', 'tract', 'patch', 'truth_mag_r', 'flux_u',\n",
       "       'flux_g', 'flux_r', 'flux_i', 'flux_z', 'flux_y', 'ugcolor', 'grcolor',\n",
       "       'ricolor', 'izcolor', 'zycolor'],\n",
       "      dtype='object')"
      ]
     },
     "execution_count": 10,
     "metadata": {},
     "output_type": "execute_result"
    }
   ],
   "source": [
    "# Reposition redshift column to first column\n",
    "first_column = df2.pop('redshift')\n",
    "df2.insert(0, 'redshift', first_column)\n",
    "df2.columns"
   ]
  },
  {
   "cell_type": "code",
   "execution_count": 11,
   "id": "28133418-af22-4f04-851a-feda5acf420b",
   "metadata": {},
   "outputs": [
    {
     "name": "stdout",
     "output_type": "stream",
     "text": [
      "-0.4957441205727808\n",
      "-0.35614285276414054\n",
      "0.44712862483707916\n",
      "0.34030639375985794\n",
      "0.4039119412371572\n",
      "0.3840632665667721\n"
     ]
    }
   ],
   "source": [
    "# Look for correlations between features and the target\n",
    "# df2.corr()\n",
    "feature_names = [\"grcolor\", \"ricolor\", \"mag_i\", \"mag_r\", \"mag_z\", \"mag_y\"]\n",
    "for feature in feature_names:\n",
    "    print(df2.redshift.corr(df2[feature]))\n"
   ]
  },
  {
   "cell_type": "code",
   "execution_count": 12,
   "id": "90a7fba5-3024-4cf0-8fc8-4b3bf631d372",
   "metadata": {},
   "outputs": [
    {
     "data": {
      "text/plain": [
       "Text(0, 0.5, 'redshift')"
      ]
     },
     "execution_count": 12,
     "metadata": {},
     "output_type": "execute_result"
    },
    {
     "data": {
      "image/png": "[encoded data removed]",
      "text/plain": [
       "<Figure size 432x288 with 1 Axes>"
      ]
     },
     "metadata": {
      "needs_background": "light"
     },
     "output_type": "display_data"
    }
   ],
   "source": [
    "# Plot some variables get a better idea of the data\n",
    "# For example, it might be a good idea to re-scale the data.\n",
    "plt.scatter(df2.grcolor, df2.redshift, color = 'red')\n",
    "plt.xlabel('g - r')\n",
    "plt.ylabel('redshift')\n",
    "# plt.gca().invert_xaxis()"
   ]
  },
  {
   "cell_type": "code",
   "execution_count": 58,
   "id": "4f7cd55a-4e02-478f-a9a5-e695196410a1",
   "metadata": {},
   "outputs": [],
   "source": [
    "from sklearn.pipeline import Pipeline\n",
    "from sklearn.preprocessing import StandardScaler\n",
    "#from sklearn.preprocessing import RobustScaler\n",
    "# from sklearn.preprocessing import MinMaxScaler\n",
    "# from sklearn.preprocessing import MaxAbsScaler\n",
    "from sklearn.preprocessing import PolynomialFeatures\n",
    "from sklearn.model_selection import train_test_split\n",
    "from sklearn.linear_model import LinearRegression"
   ]
  },
  {
   "cell_type": "code",
   "execution_count": 59,
   "id": "5878dae3-4efb-411a-b490-a068598315e5",
   "metadata": {
    "tags": []
   },
   "outputs": [],
   "source": [
    "from sklearn.pipeline import make_pipeline\n",
    "# pipe = make_pipeline(MaxAbsScaler(), PolynomialFeatures(degree=3, include_bias=False),\n",
    "#                      LinearRegression())\n",
    "# pipe = make_pipeline(MinMaxScaler(), PolynomialFeatures(degree=3, include_bias=False),\n",
    "#                      LinearRegression())\n",
    "# pipe = make_pipeline(RobustScaler(), PolynomialFeatures(degree=3, include_bias=False),\n",
    "#                      LinearRegression())\n",
    "pipe = make_pipeline(StandardScaler(), PolynomialFeatures(degree=3, include_bias=False),\n",
    "                     LinearRegression())"
   ]
  },
  {
   "cell_type": "code",
   "execution_count": 60,
   "id": "7e9d7138-2e56-4ce4-8f8b-a93fbaf0cdc4",
   "metadata": {},
   "outputs": [],
   "source": [
    "# scaler = StandardScaler()\n",
    "X, y = df2[[\"grcolor\", \"mag_i\", \"mag_r\", \"mag_z\", \"mag_y\", \"ricolor\"]], df2[\"redshift\"]\n",
    "# X_scaled = scaler.fit_transform(X)\n",
    "# y_scaled = scaler.fit_transform(y.values.reshape(-1,1))\n"
   ]
  },
  {
   "cell_type": "code",
   "execution_count": 61,
   "id": "b8dc55de-0180-4e64-b735-297aede8333d",
   "metadata": {},
   "outputs": [],
   "source": [
    "# poly = PolynomialFeatures(degree=3, include_bias=False)\n",
    "# poly_features = poly.fit_transform(X_scaled)\n",
    "# X_train, X_test, y_train, y_test = train_test_split(poly_features, y, \n",
    "X_train, X_test, y_train, y_test = train_test_split(X, y, \n",
    "                                                    test_size=0.3,\n",
    "                                                    random_state=42)"
   ]
  },
  {
   "cell_type": "code",
   "execution_count": 63,
   "id": "cf903d93-3636-463c-bea7-333330a34c23",
   "metadata": {},
   "outputs": [],
   "source": [
    "# poly_reg_model = LinearRegression()\n",
    "# poly_reg_model.fit(X_train, y_train)\n",
    "poly_reg_model = pipe.fit(X_train, y_train)"
   ]
  },
  {
   "cell_type": "code",
   "execution_count": 64,
   "id": "f8d0846b-baca-4150-8896-1d69562349ff",
   "metadata": {},
   "outputs": [
    {
     "data": {
      "text/plain": [
       "0.4134360045280531"
      ]
     },
     "execution_count": 64,
     "metadata": {},
     "output_type": "execute_result"
    }
   ],
   "source": [
    "poly_reg_y_predicted = poly_reg_model.predict(X_test)\n",
    "from sklearn.metrics import mean_squared_error\n",
    "poly_reg_rmse = np.sqrt(mean_squared_error(y_test, poly_reg_y_predicted))\n",
    "poly_reg_rmse"
   ]
  },
  {
   "cell_type": "code",
   "execution_count": 65,
   "id": "63a79d77-887d-4d6c-a819-cc3c1bf50af4",
   "metadata": {},
   "outputs": [
    {
     "data": {
      "text/plain": [
       "5697"
      ]
     },
     "execution_count": 65,
     "metadata": {},
     "output_type": "execute_result"
    }
   ],
   "source": [
    "len(X_train['mag_r'])"
   ]
  },
  {
   "cell_type": "code",
   "execution_count": 66,
   "id": "b70029a8-026d-4070-b3c9-010948182013",
   "metadata": {},
   "outputs": [
    {
     "data": {
      "text/plain": [
       "Text(0, 0.5, 'poly_reg_y_predicted')"
      ]
     },
     "execution_count": 66,
     "metadata": {},
     "output_type": "execute_result"
    },
    {
     "data": {
      "image/png": "[encoded data removed]",
      "text/plain": [
       "<Figure size 432x288 with 1 Axes>"
      ]
     },
     "metadata": {
      "needs_background": "light"
     },
     "output_type": "display_data"
    }
   ],
   "source": [
    "plt.scatter(X_test['mag_r'], y_test, label='y_test', color = 'red')\n",
    "plt.scatter(X_test['mag_r'], poly_reg_y_predicted, label='y_predicted', color = 'blue')\n",
    "plt.xlabel('y_test')\n",
    "plt.ylabel('poly_reg_y_predicted')\n",
    "# plt.xlim(0., 2.5)\n",
    "# plt.ylim(0., 2.5)"
   ]
  },
  {
   "cell_type": "code",
   "execution_count": 56,
   "id": "a51f44ed-6a4d-451f-a90a-700cc1e057fd",
   "metadata": {},
   "outputs": [
    {
     "data": {
      "text/plain": [
       "{'memory': None,\n",
       " 'steps': [('maxabsscaler', MaxAbsScaler()),\n",
       "  ('polynomialfeatures', PolynomialFeatures(degree=3, include_bias=False)),\n",
       "  ('linearregression', LinearRegression())],\n",
       " 'verbose': False,\n",
       " 'maxabsscaler': MaxAbsScaler(),\n",
       " 'polynomialfeatures': PolynomialFeatures(degree=3, include_bias=False),\n",
       " 'linearregression': LinearRegression(),\n",
       " 'maxabsscaler__copy': True,\n",
       " 'polynomialfeatures__degree': 3,\n",
       " 'polynomialfeatures__include_bias': False,\n",
       " 'polynomialfeatures__interaction_only': False,\n",
       " 'polynomialfeatures__order': 'C',\n",
       " 'linearregression__copy_X': True,\n",
       " 'linearregression__fit_intercept': True,\n",
       " 'linearregression__n_jobs': None,\n",
       " 'linearregression__normalize': 'deprecated',\n",
       " 'linearregression__positive': False}"
      ]
     },
     "execution_count": 56,
     "metadata": {},
     "output_type": "execute_result"
    }
   ],
   "source": [
    "poly_reg_model.get_params()"
   ]
  },
  {
   "cell_type": "code",
   "execution_count": 57,
   "id": "94b57f6f-f9cb-4e4d-bb99-93a4e4eeb353",
   "metadata": {},
   "outputs": [
    {
     "data": {
      "text/plain": [
       "0.5199875449456552"
      ]
     },
     "execution_count": 57,
     "metadata": {},
     "output_type": "execute_result"
    }
   ],
   "source": [
    "poly_reg_model.score(X_test, y_test)"
   ]
  },
  {
   "cell_type": "code",
   "execution_count": null,
   "id": "87e2cfd9-e338-44fa-afe1-04a35ac39455",
   "metadata": {},
   "outputs": [],
   "source": []
  }
 ],
 "metadata": {
  "kernelspec": {
   "display_name": "LSST",
   "language": "python",
   "name": "lsst"
  },
  "language_info": {
   "codemirror_mode": {
    "name": "ipython",
    "version": 3
   },
   "file_extension": ".py",
   "mimetype": "text/x-python",
   "name": "python",
   "nbconvert_exporter": "python",
   "pygments_lexer": "ipython3",
   "version": "3.10.4"
  }
 },
 "nbformat": 4,
 "nbformat_minor": 5
}
