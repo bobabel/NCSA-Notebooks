{
 "cells": [
  {
   "cell_type": "code",
   "execution_count": 1,
   "id": "b267f7cd-d885-46a1-a0c1-e1c5e126a16b",
   "metadata": {},
   "outputs": [],
   "source": [
    "# Import general python packages\n",
    "import numpy as np\n",
    "import pandas as pd\n",
    "\n",
    "# Import the Rubin TAP service utilities\n",
    "from lsst.rsp import get_tap_service, retrieve_query\n",
    "\n",
    "# Astropy\n",
    "from astropy import units as u\n",
    "from astropy.coordinates import SkyCoord\n",
    "\n",
    "%matplotlib inline\n",
    "# %matplotlib ipympl # currently slow, but may be a good option in the future\n",
    "import matplotlib.pyplot as plt\n",
    "\n",
    "# Set the maximum number of rows to display from pandas\n",
    "pd.set_option('display.max_rows', 20)\n"
   ]
  },
  {
   "cell_type": "code",
   "execution_count": 2,
   "id": "4c638cc2-7091-4563-9a30-0df389c1097f",
   "metadata": {},
   "outputs": [],
   "source": [
    "# Ignore warnings\n",
    "# import warnings\n",
    "# from astropy.units import UnitsWarning\n",
    "# warnings.simplefilter(\"ignore\", category=UnitsWarning)"
   ]
  },
  {
   "cell_type": "code",
   "execution_count": 3,
   "id": "cb305814-d096-4f74-afe9-70f6159b2a9f",
   "metadata": {},
   "outputs": [],
   "source": [
    "# Get an instance of the TAP service\n",
    "service = get_tap_service()\n",
    "assert service is not None\n",
    "# assert service.baseurl == \"https://data.lsst.cloud/api/tap\"\n"
   ]
  },
  {
   "cell_type": "code",
   "execution_count": 4,
   "id": "7f9bb785-f5ea-40b9-be6a-28e645a15b84",
   "metadata": {},
   "outputs": [],
   "source": [
    "# Define our reference position on the sky and cone radius in arcseconds\n",
    "# to use in all following examples\n",
    "coord = SkyCoord(ra=62.0*u.degree, dec=-37.0*u.degree, frame='icrs')\n",
    "radius = 0.1 * u.deg"
   ]
  },
  {
   "cell_type": "code",
   "execution_count": 5,
   "id": "8d70a2fe-c558-48ca-9e4a-5a9155d22c9c",
   "metadata": {},
   "outputs": [
    {
     "name": "stdout",
     "output_type": "stream",
     "text": [
      "SELECT obj.objectId, obj.ra, obj.dec, obj.mag_u, obj.mag_g,  obj.mag_r, obj.mag_i, obj.mag_z, obj.mag_y, obj.psFlux_u, obj.psFlux_g, obj.psFlux_r, obj.psFlux_i, obj.psFlux_z, obj.psFlux_y, obj.tract, obj.patch, obj.extendedness, obj.good, obj.clean, truth.mag_r as truth_mag_r, truth.match_objectId, truth.flux_u, truth.flux_g, truth.flux_r, truth.flux_i, truth.flux_z, truth.flux_y, truth.truth_type, truth.redshift, truth.match_sep, truth.is_variable FROM dp01_dc2_catalogs.object as obj JOIN dp01_dc2_catalogs.truth_match as truth ON truth.match_objectId = obj.objectId WHERE CONTAINS(POINT('ICRS', obj.ra, obj.dec),CIRCLE('ICRS', 62.0, -37.0, 0.1 )) = 1 AND truth.match_objectid >= 0 AND truth.is_good_match = 1AND obj.clean = 1 AND obj.good = 1AND obj.extendedness = 1\n"
     ]
    }
   ],
   "source": [
    "# Try looking at galaxies first\n",
    "query = \"SELECT obj.objectId, obj.ra, obj.dec, obj.mag_u, obj.mag_g, \" \\\n",
    "        \" obj.mag_r, obj.mag_i, obj.mag_z, obj.mag_y, obj.psFlux_u, \" \\\n",
    "        \"obj.psFlux_g, obj.psFlux_r, obj.psFlux_i, obj.psFlux_z, \" \\\n",
    "        \"obj.psFlux_y, obj.tract, obj.patch, \" \\\n",
    "        \"obj.extendedness, obj.good, obj.clean, \" \\\n",
    "        \"truth.mag_r as truth_mag_r, truth.match_objectId, \"\\\n",
    "        \"truth.flux_u, truth.flux_g, truth.flux_r, truth.flux_i, \" \\\n",
    "        \"truth.flux_z, truth.flux_y, truth.truth_type, truth.redshift, \" \\\n",
    "        \"truth.match_sep, truth.is_variable \" \\\n",
    "        \"FROM dp01_dc2_catalogs.object as obj \" \\\n",
    "        \"JOIN dp01_dc2_catalogs.truth_match as truth \" \\\n",
    "        \"ON truth.match_objectId = obj.objectId \" \\\n",
    "        \"WHERE CONTAINS(POINT('ICRS', obj.ra, obj.dec),CIRCLE('ICRS', \" \\\n",
    "        + str(coord.ra.value) + \", \" + str(coord.dec.value) + \", \" \\\n",
    "        + str(radius.value) + \" )) = 1 \" \\\n",
    "        \"AND truth.match_objectid >= 0 \" \\\n",
    "        \"AND truth.is_good_match = 1\" \\\n",
    "        \"AND obj.clean = 1 AND obj.good = 1\" \\\n",
    "        \"AND obj.extendedness = 1\"\n",
    "print(query)"
   ]
  },
  {
   "cell_type": "code",
   "execution_count": 6,
   "id": "597efafc-fca8-47d5-bb89-f959af8bfbed",
   "metadata": {},
   "outputs": [
    {
     "name": "stderr",
     "output_type": "stream",
     "text": [
      "WARNING: UnitsWarning: Unit 'nmgy' not supported by the VOUnit standard.  [astropy.units.format.vounit]\n"
     ]
    },
    {
     "data": {
      "text/html": [
       "<pre style=\"margin: 0.1em;\n",
       "padding-left: 0.25em;\n",
       "border-left-style: solid;\n",
       "font-family: var(--jp-code-font-family);\n",
       "font-size: var(--jp-code-font-size);\n",
       "line-height: var(--jp-code-line-height);\n",
       "\"><span style=\"color: var(--jp-warn-color2)\">astropy</span> <span style=\"color: var(--jp-warn-color0)\">WARNING</span>: UnitsWarning: Unit &#x27;nmgy&#x27; not supported by the VOUnit standard. </pre>"
      ],
      "text/plain": [
       "<IPython.core.display.HTML object>"
      ]
     },
     "metadata": {},
     "output_type": "display_data"
    },
    {
     "name": "stderr",
     "output_type": "stream",
     "text": [
      "WARNING: UnitsWarning: Unit 'asec' not supported by the VOUnit standard. Did you mean arcsec? [astropy.units.format.vounit]\n"
     ]
    },
    {
     "data": {
      "text/html": [
       "<pre style=\"margin: 0.1em;\n",
       "padding-left: 0.25em;\n",
       "border-left-style: solid;\n",
       "font-family: var(--jp-code-font-family);\n",
       "font-size: var(--jp-code-font-size);\n",
       "line-height: var(--jp-code-line-height);\n",
       "\"><span style=\"color: var(--jp-warn-color2)\">astropy</span> <span style=\"color: var(--jp-warn-color0)\">WARNING</span>: UnitsWarning: Unit &#x27;asec&#x27; not supported by the VOUnit standard. Did you mean arcsec?</pre>"
      ],
      "text/plain": [
       "<IPython.core.display.HTML object>"
      ]
     },
     "metadata": {},
     "output_type": "display_data"
    },
    {
     "data": {
      "text/plain": [
       "10957"
      ]
     },
     "execution_count": 6,
     "metadata": {},
     "output_type": "execute_result"
    }
   ],
   "source": [
    "# For more detailed analysis of results, converting\n",
    "# to a pandas dataframe is often very useful (\"df\" stands for \"dataframe\")\n",
    "df = service.search(query).to_table().to_pandas()\n",
    "\n",
    "# Use an assertion to make sure we got the correct number of results.\n",
    "# assert len(df) == 15670\n",
    "len(df.ra)"
   ]
  },
  {
   "cell_type": "code",
   "execution_count": 7,
   "id": "70575c01-71e7-401e-9970-6e3717f89011",
   "metadata": {},
   "outputs": [
    {
     "data": {
      "text/plain": [
       "<matplotlib.collections.PathCollection at 0x7f29e8d58820>"
      ]
     },
     "execution_count": 7,
     "metadata": {},
     "output_type": "execute_result"
    },
    {
     "data": {
      "image/png": "[encoded data removed]",
      "text/plain": [
       "<Figure size 432x288 with 1 Axes>"
      ]
     },
     "metadata": {
      "needs_background": "light"
     },
     "output_type": "display_data"
    }
   ],
   "source": [
    "plt.scatter(df.ra, df.dec)"
   ]
  },
  {
   "cell_type": "code",
   "execution_count": 8,
   "id": "3fc362eb-08ca-4e26-ab8d-5ad7fe6f64aa",
   "metadata": {},
   "outputs": [],
   "source": [
    "# Get rid of NaN values.\n",
    "df2 = df.dropna\n",
    "df2 = df.dropna(axis=0)"
   ]
  },
  {
   "cell_type": "code",
   "execution_count": 9,
   "id": "bd060eb8-613d-4eb3-a537-273897d834de",
   "metadata": {},
   "outputs": [
    {
     "data": {
      "text/plain": [
       "((10957, 32), (8139, 32))"
      ]
     },
     "execution_count": 9,
     "metadata": {},
     "output_type": "execute_result"
    }
   ],
   "source": [
    "df.shape, df2.shape"
   ]
  },
  {
   "cell_type": "code",
   "execution_count": 10,
   "id": "b5a012d0-1472-499a-a721-7041ad28c35d",
   "metadata": {},
   "outputs": [
    {
     "data": {
      "text/plain": [
       "Index(['objectId', 'ra', 'dec', 'mag_u', 'mag_g', 'mag_r', 'mag_i', 'mag_z',\n",
       "       'mag_y', 'psFlux_u', 'psFlux_g', 'psFlux_r', 'psFlux_i', 'psFlux_z',\n",
       "       'psFlux_y', 'tract', 'patch', 'extendedness', 'good', 'clean',\n",
       "       'truth_mag_r', 'match_objectId', 'flux_u', 'flux_g', 'flux_r', 'flux_i',\n",
       "       'flux_z', 'flux_y', 'truth_type', 'redshift', 'match_sep',\n",
       "       'is_variable'],\n",
       "      dtype='object')"
      ]
     },
     "execution_count": 10,
     "metadata": {},
     "output_type": "execute_result"
    }
   ],
   "source": [
    "df2.columns"
   ]
  },
  {
   "cell_type": "code",
   "execution_count": 11,
   "id": "734dac7a-7e03-4e2c-822c-7230b72f874a",
   "metadata": {},
   "outputs": [
    {
     "name": "stderr",
     "output_type": "stream",
     "text": [
      "/tmp/ipykernel_14948/1239832705.py:6: SettingWithCopyWarning: \n",
      "A value is trying to be set on a copy of a slice from a DataFrame.\n",
      "Try using .loc[row_indexer,col_indexer] = value instead\n",
      "\n",
      "See the caveats in the documentation: https://pandas.pydata.org/pandas-docs/stable/user_guide/indexing.html#returning-a-view-versus-a-copy\n",
      "  df2['ugcolor'] = ugcolor\n",
      "/tmp/ipykernel_14948/1239832705.py:7: SettingWithCopyWarning: \n",
      "A value is trying to be set on a copy of a slice from a DataFrame.\n",
      "Try using .loc[row_indexer,col_indexer] = value instead\n",
      "\n",
      "See the caveats in the documentation: https://pandas.pydata.org/pandas-docs/stable/user_guide/indexing.html#returning-a-view-versus-a-copy\n",
      "  df2['grcolor'] = grcolor\n",
      "/tmp/ipykernel_14948/1239832705.py:8: SettingWithCopyWarning: \n",
      "A value is trying to be set on a copy of a slice from a DataFrame.\n",
      "Try using .loc[row_indexer,col_indexer] = value instead\n",
      "\n",
      "See the caveats in the documentation: https://pandas.pydata.org/pandas-docs/stable/user_guide/indexing.html#returning-a-view-versus-a-copy\n",
      "  df2['ricolor'] = ricolor\n",
      "/tmp/ipykernel_14948/1239832705.py:9: SettingWithCopyWarning: \n",
      "A value is trying to be set on a copy of a slice from a DataFrame.\n",
      "Try using .loc[row_indexer,col_indexer] = value instead\n",
      "\n",
      "See the caveats in the documentation: https://pandas.pydata.org/pandas-docs/stable/user_guide/indexing.html#returning-a-view-versus-a-copy\n",
      "  df2['izcolor'] = izcolor\n",
      "/tmp/ipykernel_14948/1239832705.py:10: SettingWithCopyWarning: \n",
      "A value is trying to be set on a copy of a slice from a DataFrame.\n",
      "Try using .loc[row_indexer,col_indexer] = value instead\n",
      "\n",
      "See the caveats in the documentation: https://pandas.pydata.org/pandas-docs/stable/user_guide/indexing.html#returning-a-view-versus-a-copy\n",
      "  df2['zycolor'] = zycolor\n"
     ]
    }
   ],
   "source": [
    "ugcolor = df2['mag_u'] - df2['mag_g']\n",
    "grcolor = df2['mag_g'] - df2['mag_r']\n",
    "ricolor = df2['mag_r'] - df2['mag_i']\n",
    "izcolor = df2['mag_i'] - df2['mag_z']\n",
    "zycolor = df2['mag_z'] - df2['mag_y']\n",
    "df2['ugcolor'] = ugcolor\n",
    "df2['grcolor'] = grcolor\n",
    "df2['ricolor'] = ricolor\n",
    "df2['izcolor'] = izcolor\n",
    "df2['zycolor'] = zycolor"
   ]
  },
  {
   "cell_type": "code",
   "execution_count": 12,
   "id": "a12c2802-b784-4b5b-b112-a23f3bc1b5f1",
   "metadata": {},
   "outputs": [
    {
     "data": {
      "text/plain": [
       "Index(['mag_u', 'mag_g', 'mag_r', 'mag_i', 'mag_z', 'mag_y', 'psFlux_u',\n",
       "       'psFlux_g', 'psFlux_r', 'psFlux_i', 'psFlux_z', 'psFlux_y',\n",
       "       'truth_mag_r', 'match_objectId', 'flux_u', 'flux_g', 'flux_r', 'flux_i',\n",
       "       'flux_z', 'flux_y', 'redshift', 'ugcolor', 'grcolor', 'ricolor',\n",
       "       'izcolor', 'zycolor'],\n",
       "      dtype='object')"
      ]
     },
     "execution_count": 12,
     "metadata": {},
     "output_type": "execute_result"
    }
   ],
   "source": [
    "df3 = df2.drop(['objectId', 'ra', 'dec', 'tract', 'patch', 'extendedness', \n",
    "                'good', 'clean'], axis=1)\n",
    "df4 = df3.drop(['truth_type', 'match_sep', 'is_variable'], axis=1)\n",
    "df4.columns"
   ]
  },
  {
   "cell_type": "code",
   "execution_count": 13,
   "id": "51fabced-9a8d-476c-8d9c-883c68384c51",
   "metadata": {},
   "outputs": [],
   "source": [
    "df5 = df4.drop(['mag_u', 'ugcolor', 'psFlux_r', 'psFlux_g', 'psFlux_u'], axis=1)"
   ]
  },
  {
   "cell_type": "code",
   "execution_count": 14,
   "id": "2410cf06-4f15-4cc2-ae08-4a8c4217c2e8",
   "metadata": {},
   "outputs": [
    {
     "data": {
      "text/plain": [
       "Index(['mag_g', 'mag_r', 'mag_i', 'mag_z', 'mag_y', 'psFlux_i', 'psFlux_z',\n",
       "       'psFlux_y', 'truth_mag_r', 'match_objectId', 'flux_u', 'flux_g',\n",
       "       'flux_r', 'flux_i', 'flux_z', 'flux_y', 'redshift', 'grcolor',\n",
       "       'ricolor', 'izcolor', 'zycolor'],\n",
       "      dtype='object')"
      ]
     },
     "execution_count": 14,
     "metadata": {},
     "output_type": "execute_result"
    }
   ],
   "source": [
    "df5.columns"
   ]
  },
  {
   "cell_type": "code",
   "execution_count": 15,
   "id": "284eabec-bc6e-4d1b-a2fe-a7d40218f434",
   "metadata": {},
   "outputs": [],
   "source": [
    "df6 = df5.drop(['match_objectId', 'flux_u', 'flux_g', 'flux_r', 'flux_i', 'flux_z', 'flux_y'], axis=1)"
   ]
  },
  {
   "cell_type": "code",
   "execution_count": 16,
   "id": "c49ec43d-ccb2-4c21-9858-4e0490edc056",
   "metadata": {},
   "outputs": [],
   "source": [
    "df2 = df6\n",
    "del df6\n",
    "del df5\n",
    "del df4\n",
    "del df3\n",
    "del df"
   ]
  },
  {
   "cell_type": "code",
   "execution_count": 17,
   "id": "7f1cab81-88d6-4228-a9f3-10f1888003cf",
   "metadata": {},
   "outputs": [],
   "source": [
    "df3 = df2.drop(['psFlux_i', 'psFlux_z', 'psFlux_y'], axis=1)"
   ]
  },
  {
   "cell_type": "code",
   "execution_count": 18,
   "id": "9cf533a6-cf11-4c72-bc07-5f4519a99cf3",
   "metadata": {},
   "outputs": [
    {
     "data": {
      "text/plain": [
       "Index(['mag_g', 'mag_r', 'mag_i', 'mag_z', 'mag_y', 'truth_mag_r', 'redshift',\n",
       "       'grcolor', 'ricolor', 'izcolor', 'zycolor'],\n",
       "      dtype='object')"
      ]
     },
     "execution_count": 18,
     "metadata": {},
     "output_type": "execute_result"
    }
   ],
   "source": [
    "df2 = df3\n",
    "del df3\n",
    "df2.columns"
   ]
  },
  {
   "cell_type": "code",
   "execution_count": 19,
   "id": "6f11c97d-b658-4830-9253-26e31cd6fa10",
   "metadata": {},
   "outputs": [
    {
     "data": {
      "text/html": [
       "<div>\n",
       "<style scoped>\n",
       "    .dataframe tbody tr th:only-of-type {\n",
       "        vertical-align: middle;\n",
       "    }\n",
       "\n",
       "    .dataframe tbody tr th {\n",
       "        vertical-align: top;\n",
       "    }\n",
       "\n",
       "    .dataframe thead th {\n",
       "        text-align: right;\n",
       "    }\n",
       "</style>\n",
       "<table border=\"1\" class=\"dataframe\">\n",
       "  <thead>\n",
       "    <tr style=\"text-align: right;\">\n",
       "      <th></th>\n",
       "      <th>mag_g</th>\n",
       "      <th>mag_r</th>\n",
       "      <th>mag_i</th>\n",
       "      <th>mag_z</th>\n",
       "      <th>mag_y</th>\n",
       "      <th>truth_mag_r</th>\n",
       "      <th>redshift</th>\n",
       "      <th>grcolor</th>\n",
       "      <th>ricolor</th>\n",
       "      <th>izcolor</th>\n",
       "      <th>zycolor</th>\n",
       "    </tr>\n",
       "  </thead>\n",
       "  <tbody>\n",
       "    <tr>\n",
       "      <th>mag_g</th>\n",
       "      <td>1.000000</td>\n",
       "      <td>0.858606</td>\n",
       "      <td>0.741416</td>\n",
       "      <td>0.643772</td>\n",
       "      <td>0.607660</td>\n",
       "      <td>0.845031</td>\n",
       "      <td>0.074799</td>\n",
       "      <td>0.281410</td>\n",
       "      <td>0.050082</td>\n",
       "      <td>-0.052311</td>\n",
       "      <td>0.046235</td>\n",
       "    </tr>\n",
       "    <tr>\n",
       "      <th>mag_r</th>\n",
       "      <td>0.858606</td>\n",
       "      <td>1.000000</td>\n",
       "      <td>0.913519</td>\n",
       "      <td>0.806532</td>\n",
       "      <td>0.765165</td>\n",
       "      <td>0.975035</td>\n",
       "      <td>0.340306</td>\n",
       "      <td>-0.250298</td>\n",
       "      <td>-0.064345</td>\n",
       "      <td>-0.088226</td>\n",
       "      <td>0.052631</td>\n",
       "    </tr>\n",
       "    <tr>\n",
       "      <th>mag_i</th>\n",
       "      <td>0.741416</td>\n",
       "      <td>0.913519</td>\n",
       "      <td>1.000000</td>\n",
       "      <td>0.828222</td>\n",
       "      <td>0.787102</td>\n",
       "      <td>0.915977</td>\n",
       "      <td>0.447129</td>\n",
       "      <td>-0.309742</td>\n",
       "      <td>-0.464734</td>\n",
       "      <td>0.000963</td>\n",
       "      <td>0.052192</td>\n",
       "    </tr>\n",
       "    <tr>\n",
       "      <th>mag_z</th>\n",
       "      <td>0.643772</td>\n",
       "      <td>0.806532</td>\n",
       "      <td>0.828222</td>\n",
       "      <td>1.000000</td>\n",
       "      <td>0.730970</td>\n",
       "      <td>0.812571</td>\n",
       "      <td>0.403912</td>\n",
       "      <td>-0.293887</td>\n",
       "      <td>-0.276213</td>\n",
       "      <td>-0.559602</td>\n",
       "      <td>0.362616</td>\n",
       "    </tr>\n",
       "    <tr>\n",
       "      <th>mag_y</th>\n",
       "      <td>0.607660</td>\n",
       "      <td>0.765165</td>\n",
       "      <td>0.787102</td>\n",
       "      <td>0.730970</td>\n",
       "      <td>1.000000</td>\n",
       "      <td>0.773588</td>\n",
       "      <td>0.384063</td>\n",
       "      <td>-0.284657</td>\n",
       "      <td>-0.265378</td>\n",
       "      <td>-0.140348</td>\n",
       "      <td>-0.370902</td>\n",
       "    </tr>\n",
       "    <tr>\n",
       "      <th>truth_mag_r</th>\n",
       "      <td>0.845031</td>\n",
       "      <td>0.975035</td>\n",
       "      <td>0.915977</td>\n",
       "      <td>0.812571</td>\n",
       "      <td>0.773588</td>\n",
       "      <td>1.000000</td>\n",
       "      <td>0.346020</td>\n",
       "      <td>-0.229207</td>\n",
       "      <td>-0.124715</td>\n",
       "      <td>-0.095367</td>\n",
       "      <td>0.049347</td>\n",
       "    </tr>\n",
       "    <tr>\n",
       "      <th>redshift</th>\n",
       "      <td>0.074799</td>\n",
       "      <td>0.340306</td>\n",
       "      <td>0.447129</td>\n",
       "      <td>0.403912</td>\n",
       "      <td>0.384063</td>\n",
       "      <td>0.346020</td>\n",
       "      <td>1.000000</td>\n",
       "      <td>-0.495744</td>\n",
       "      <td>-0.356143</td>\n",
       "      <td>-0.059509</td>\n",
       "      <td>0.025173</td>\n",
       "    </tr>\n",
       "    <tr>\n",
       "      <th>grcolor</th>\n",
       "      <td>0.281410</td>\n",
       "      <td>-0.250298</td>\n",
       "      <td>-0.309742</td>\n",
       "      <td>-0.293887</td>\n",
       "      <td>-0.284657</td>\n",
       "      <td>-0.229207</td>\n",
       "      <td>-0.495744</td>\n",
       "      <td>1.000000</td>\n",
       "      <td>0.215032</td>\n",
       "      <td>0.066354</td>\n",
       "      <td>-0.011199</td>\n",
       "    </tr>\n",
       "    <tr>\n",
       "      <th>ricolor</th>\n",
       "      <td>0.050082</td>\n",
       "      <td>-0.064345</td>\n",
       "      <td>-0.464734</td>\n",
       "      <td>-0.276213</td>\n",
       "      <td>-0.265378</td>\n",
       "      <td>-0.124715</td>\n",
       "      <td>-0.356143</td>\n",
       "      <td>0.215032</td>\n",
       "      <td>1.000000</td>\n",
       "      <td>-0.194399</td>\n",
       "      <td>-0.013474</td>\n",
       "    </tr>\n",
       "    <tr>\n",
       "      <th>izcolor</th>\n",
       "      <td>-0.052311</td>\n",
       "      <td>-0.088226</td>\n",
       "      <td>0.000963</td>\n",
       "      <td>-0.559602</td>\n",
       "      <td>-0.140348</td>\n",
       "      <td>-0.095367</td>\n",
       "      <td>-0.059509</td>\n",
       "      <td>0.066354</td>\n",
       "      <td>-0.194399</td>\n",
       "      <td>1.000000</td>\n",
       "      <td>-0.569880</td>\n",
       "    </tr>\n",
       "    <tr>\n",
       "      <th>zycolor</th>\n",
       "      <td>0.046235</td>\n",
       "      <td>0.052631</td>\n",
       "      <td>0.052192</td>\n",
       "      <td>0.362616</td>\n",
       "      <td>-0.370902</td>\n",
       "      <td>0.049347</td>\n",
       "      <td>0.025173</td>\n",
       "      <td>-0.011199</td>\n",
       "      <td>-0.013474</td>\n",
       "      <td>-0.569880</td>\n",
       "      <td>1.000000</td>\n",
       "    </tr>\n",
       "  </tbody>\n",
       "</table>\n",
       "</div>"
      ],
      "text/plain": [
       "                mag_g     mag_r     mag_i     mag_z     mag_y  truth_mag_r  \\\n",
       "mag_g        1.000000  0.858606  0.741416  0.643772  0.607660     0.845031   \n",
       "mag_r        0.858606  1.000000  0.913519  0.806532  0.765165     0.975035   \n",
       "mag_i        0.741416  0.913519  1.000000  0.828222  0.787102     0.915977   \n",
       "mag_z        0.643772  0.806532  0.828222  1.000000  0.730970     0.812571   \n",
       "mag_y        0.607660  0.765165  0.787102  0.730970  1.000000     0.773588   \n",
       "truth_mag_r  0.845031  0.975035  0.915977  0.812571  0.773588     1.000000   \n",
       "redshift     0.074799  0.340306  0.447129  0.403912  0.384063     0.346020   \n",
       "grcolor      0.281410 -0.250298 -0.309742 -0.293887 -0.284657    -0.229207   \n",
       "ricolor      0.050082 -0.064345 -0.464734 -0.276213 -0.265378    -0.124715   \n",
       "izcolor     -0.052311 -0.088226  0.000963 -0.559602 -0.140348    -0.095367   \n",
       "zycolor      0.046235  0.052631  0.052192  0.362616 -0.370902     0.049347   \n",
       "\n",
       "             redshift   grcolor   ricolor   izcolor   zycolor  \n",
       "mag_g        0.074799  0.281410  0.050082 -0.052311  0.046235  \n",
       "mag_r        0.340306 -0.250298 -0.064345 -0.088226  0.052631  \n",
       "mag_i        0.447129 -0.309742 -0.464734  0.000963  0.052192  \n",
       "mag_z        0.403912 -0.293887 -0.276213 -0.559602  0.362616  \n",
       "mag_y        0.384063 -0.284657 -0.265378 -0.140348 -0.370902  \n",
       "truth_mag_r  0.346020 -0.229207 -0.124715 -0.095367  0.049347  \n",
       "redshift     1.000000 -0.495744 -0.356143 -0.059509  0.025173  \n",
       "grcolor     -0.495744  1.000000  0.215032  0.066354 -0.011199  \n",
       "ricolor     -0.356143  0.215032  1.000000 -0.194399 -0.013474  \n",
       "izcolor     -0.059509  0.066354 -0.194399  1.000000 -0.569880  \n",
       "zycolor      0.025173 -0.011199 -0.013474 -0.569880  1.000000  "
      ]
     },
     "execution_count": 19,
     "metadata": {},
     "output_type": "execute_result"
    }
   ],
   "source": [
    "df2.corr()"
   ]
  },
  {
   "cell_type": "markdown",
   "id": "150f02b6-da18-4d18-ae0a-133b533ad1bc",
   "metadata": {},
   "source": [
    "Redshift appears to correlate best to, in order, grcolor(-0.496), mag_i(0.447), \n",
    "mag_z(0.404), mag_y(0.384), ricolor(-0.356), and mag_r(0.340).\n",
    "All other values are < 0.15, so let's just look at those features."
   ]
  },
  {
   "cell_type": "code",
   "execution_count": 52,
   "id": "aa25bc4d-8ae6-4de3-a431-113c5c65c1b3",
   "metadata": {},
   "outputs": [
    {
     "data": {
      "text/plain": [
       "Text(0, 0.5, 'redshift')"
      ]
     },
     "execution_count": 52,
     "metadata": {},
     "output_type": "execute_result"
    },
    {
     "data": {
      "image/png": "[encoded data removed]",
      "text/plain": [
       "<Figure size 432x288 with 1 Axes>"
      ]
     },
     "metadata": {
      "needs_background": "light"
     },
     "output_type": "display_data"
    }
   ],
   "source": [
    "plt.scatter(df2.grcolor, df2.redshift, color = 'red')\n",
    "plt.xlabel('g - r')\n",
    "plt.ylabel('redshift')\n",
    "# plt.gca().invert_xaxis()"
   ]
  },
  {
   "cell_type": "code",
   "execution_count": 21,
   "id": "2bac0e11-1c96-4088-96ed-5c42882b286f",
   "metadata": {},
   "outputs": [],
   "source": [
    "from sklearn.linear_model import LinearRegression\n",
    "# from sklearn.model_selection import cross_validate\n",
    "# from sklearn.model_selection import ShuffleSplit\n",
    "from sklearn.model_selection import train_test_split"
   ]
  },
  {
   "cell_type": "code",
   "execution_count": 22,
   "id": "6884635b-ade0-4268-9007-0d84fc20252e",
   "metadata": {},
   "outputs": [],
   "source": [
    "# We don't know of the galaxies are ordered by redshift or come randomly. Thus we activate a pre-random-shuffling in the training dataset. \n",
    "# cv = ShuffleSplit(n_splits=5, test_size=.80, random_state=0)\n"
   ]
  },
  {
   "cell_type": "code",
   "execution_count": 23,
   "id": "bf1dc430-0370-40f4-9fd8-1a8c714eaf6f",
   "metadata": {},
   "outputs": [
    {
     "data": {
      "text/plain": [
       "((8139,), (8139,))"
      ]
     },
     "execution_count": 23,
     "metadata": {},
     "output_type": "execute_result"
    }
   ],
   "source": [
    "target = df2.redshift\n",
    "#features = np.array([df2.mag_r, ugcolor, grcolor, ricolor, izcolor, zycolor])\n",
    "features = df2.grcolor\n",
    "Ntot = len(target)\n",
    "features.shape, target.shape"
   ]
  },
  {
   "cell_type": "code",
   "execution_count": 24,
   "id": "56800b07-d393-4d0a-a1ef-1e8555935dee",
   "metadata": {},
   "outputs": [
    {
     "data": {
      "text/plain": [
       "0        0.051661\n",
       "1        0.412158\n",
       "2        0.644672\n",
       "3        1.382438\n",
       "4        1.412398\n",
       "           ...   \n",
       "10951    0.733324\n",
       "10952    0.648440\n",
       "10954    0.643265\n",
       "10955    1.151521\n",
       "10956    0.011809\n",
       "Name: grcolor, Length: 8139, dtype: float64"
      ]
     },
     "execution_count": 24,
     "metadata": {},
     "output_type": "execute_result"
    }
   ],
   "source": [
    "features"
   ]
  },
  {
   "cell_type": "code",
   "execution_count": 25,
   "id": "8abaec13-f855-4713-bc57-72b67f2a82a9",
   "metadata": {},
   "outputs": [
    {
     "data": {
      "text/plain": [
       "0        0.962006\n",
       "1        1.120860\n",
       "2        0.631860\n",
       "3        0.749955\n",
       "4        0.292153\n",
       "           ...   \n",
       "10951    0.250911\n",
       "10952    1.203240\n",
       "10954    0.827515\n",
       "10955    0.675414\n",
       "10956    2.386490\n",
       "Name: redshift, Length: 8139, dtype: float32"
      ]
     },
     "execution_count": 25,
     "metadata": {},
     "output_type": "execute_result"
    }
   ],
   "source": [
    "target"
   ]
  },
  {
   "cell_type": "code",
   "execution_count": 26,
   "id": "a2b5fa75-d392-4460-902e-e77637fed956",
   "metadata": {},
   "outputs": [],
   "source": [
    "Ntrain = 2500\n",
    "Ntest = Ntot-Ntrain"
   ]
  },
  {
   "cell_type": "code",
   "execution_count": 27,
   "id": "2c78f72e-1554-4233-a197-8b624dec5e87",
   "metadata": {},
   "outputs": [
    {
     "data": {
      "text/plain": [
       "0.6928369578572307"
      ]
     },
     "execution_count": 27,
     "metadata": {},
     "output_type": "execute_result"
    }
   ],
   "source": [
    "# Test fraction\n",
    "test_sample_size_fraction=Ntest/Ntot\n",
    "test_sample_size_fraction"
   ]
  },
  {
   "cell_type": "code",
   "execution_count": 28,
   "id": "8988a164-53fc-4e8d-a19e-1682f61f460c",
   "metadata": {
    "tags": []
   },
   "outputs": [],
   "source": [
    "# adapt the train dataset size according required running time \n",
    "# X_train, X_test, y_train, y_test = train_test_split(features, target, test_size=test_sample_size_fraction, random_state=0)\n"
   ]
  },
  {
   "cell_type": "code",
   "execution_count": 29,
   "id": "e9886a55-a7be-48bd-9f0d-1ad2156ab98a",
   "metadata": {},
   "outputs": [],
   "source": [
    "# to fix this error, transpose features\n",
    "# features = features.T\n",
    "# features.shape"
   ]
  },
  {
   "cell_type": "code",
   "execution_count": 30,
   "id": "8291d04c-cf73-45e7-9e0a-49af4c089608",
   "metadata": {},
   "outputs": [],
   "source": [
    "features = np.array(features)"
   ]
  },
  {
   "cell_type": "code",
   "execution_count": 31,
   "id": "13eeb6f1-d01f-490f-9fe5-4c3628dd65e4",
   "metadata": {},
   "outputs": [],
   "source": [
    "features = features.reshape(-1, 1)"
   ]
  },
  {
   "cell_type": "code",
   "execution_count": 32,
   "id": "cff962de-94e4-4dd6-80c5-456f4636e091",
   "metadata": {},
   "outputs": [],
   "source": [
    "# Now try again\n",
    "# adapt the train dataset size according required running time \n",
    "X_train, X_test, y_train, y_test = train_test_split(features, target, test_size=test_sample_size_fraction, random_state=0)\n"
   ]
  },
  {
   "cell_type": "code",
   "execution_count": 33,
   "id": "da3b252a-bfb0-4ad1-9091-31cd0ee4e9a2",
   "metadata": {},
   "outputs": [
    {
     "name": "stdout",
     "output_type": "stream",
     "text": [
      "(5639, 1) (5639,) (2500, 1) (2500,)\n"
     ]
    }
   ],
   "source": [
    "print(X_test.shape, y_test.shape, X_train.shape, y_train.shape)"
   ]
  },
  {
   "cell_type": "code",
   "execution_count": 34,
   "id": "df54a803-a109-4096-b67b-8d4b5bb057e7",
   "metadata": {},
   "outputs": [
    {
     "data": {
      "text/html": [
       "<style>#sk-container-id-1 {color: black;background-color: white;}#sk-container-id-1 pre{padding: 0;}#sk-container-id-1 div.sk-toggleable {background-color: white;}#sk-container-id-1 label.sk-toggleable__label {cursor: pointer;display: block;width: 100%;margin-bottom: 0;padding: 0.3em;box-sizing: border-box;text-align: center;}#sk-container-id-1 label.sk-toggleable__label-arrow:before {content: \"▸\";float: left;margin-right: 0.25em;color: #696969;}#sk-container-id-1 label.sk-toggleable__label-arrow:hover:before {color: black;}#sk-container-id-1 div.sk-estimator:hover label.sk-toggleable__label-arrow:before {color: black;}#sk-container-id-1 div.sk-toggleable__content {max-height: 0;max-width: 0;overflow: hidden;text-align: left;background-color: #f0f8ff;}#sk-container-id-1 div.sk-toggleable__content pre {margin: 0.2em;color: black;border-radius: 0.25em;background-color: #f0f8ff;}#sk-container-id-1 input.sk-toggleable__control:checked~div.sk-toggleable__content {max-height: 200px;max-width: 100%;overflow: auto;}#sk-container-id-1 input.sk-toggleable__control:checked~label.sk-toggleable__label-arrow:before {content: \"▾\";}#sk-container-id-1 div.sk-estimator input.sk-toggleable__control:checked~label.sk-toggleable__label {background-color: #d4ebff;}#sk-container-id-1 div.sk-label input.sk-toggleable__control:checked~label.sk-toggleable__label {background-color: #d4ebff;}#sk-container-id-1 input.sk-hidden--visually {border: 0;clip: rect(1px 1px 1px 1px);clip: rect(1px, 1px, 1px, 1px);height: 1px;margin: -1px;overflow: hidden;padding: 0;position: absolute;width: 1px;}#sk-container-id-1 div.sk-estimator {font-family: monospace;background-color: #f0f8ff;border: 1px dotted black;border-radius: 0.25em;box-sizing: border-box;margin-bottom: 0.5em;}#sk-container-id-1 div.sk-estimator:hover {background-color: #d4ebff;}#sk-container-id-1 div.sk-parallel-item::after {content: \"\";width: 100%;border-bottom: 1px solid gray;flex-grow: 1;}#sk-container-id-1 div.sk-label:hover label.sk-toggleable__label {background-color: #d4ebff;}#sk-container-id-1 div.sk-serial::before {content: \"\";position: absolute;border-left: 1px solid gray;box-sizing: border-box;top: 0;bottom: 0;left: 50%;z-index: 0;}#sk-container-id-1 div.sk-serial {display: flex;flex-direction: column;align-items: center;background-color: white;padding-right: 0.2em;padding-left: 0.2em;position: relative;}#sk-container-id-1 div.sk-item {position: relative;z-index: 1;}#sk-container-id-1 div.sk-parallel {display: flex;align-items: stretch;justify-content: center;background-color: white;position: relative;}#sk-container-id-1 div.sk-item::before, #sk-container-id-1 div.sk-parallel-item::before {content: \"\";position: absolute;border-left: 1px solid gray;box-sizing: border-box;top: 0;bottom: 0;left: 50%;z-index: -1;}#sk-container-id-1 div.sk-parallel-item {display: flex;flex-direction: column;z-index: 1;position: relative;background-color: white;}#sk-container-id-1 div.sk-parallel-item:first-child::after {align-self: flex-end;width: 50%;}#sk-container-id-1 div.sk-parallel-item:last-child::after {align-self: flex-start;width: 50%;}#sk-container-id-1 div.sk-parallel-item:only-child::after {width: 0;}#sk-container-id-1 div.sk-dashed-wrapped {border: 1px dashed gray;margin: 0 0.4em 0.5em 0.4em;box-sizing: border-box;padding-bottom: 0.4em;background-color: white;}#sk-container-id-1 div.sk-label label {font-family: monospace;font-weight: bold;display: inline-block;line-height: 1.2em;}#sk-container-id-1 div.sk-label-container {text-align: center;}#sk-container-id-1 div.sk-container {/* jupyter's `normalize.less` sets `[hidden] { display: none; }` but bootstrap.min.css set `[hidden] { display: none !important; }` so we also need the `!important` here to be able to override the default hidden behavior on the sphinx rendered scikit-learn.org. See: https://github.com/scikit-learn/scikit-learn/issues/21755 */display: inline-block !important;position: relative;}#sk-container-id-1 div.sk-text-repr-fallback {display: none;}</style><div id=\"sk-container-id-1\" class=\"sk-top-container\"><div class=\"sk-text-repr-fallback\"><pre>LinearRegression()</pre><b>In a Jupyter environment, please rerun this cell to show the HTML representation or trust the notebook. <br />On GitHub, the HTML representation is unable to render, please try loading this page with nbviewer.org.</b></div><div class=\"sk-container\" hidden><div class=\"sk-item\"><div class=\"sk-estimator sk-toggleable\"><input class=\"sk-toggleable__control sk-hidden--visually\" id=\"sk-estimator-id-1\" type=\"checkbox\" checked><label for=\"sk-estimator-id-1\" class=\"sk-toggleable__label sk-toggleable__label-arrow\">LinearRegression</label><div class=\"sk-toggleable__content\"><pre>LinearRegression()</pre></div></div></div></div></div>"
      ],
      "text/plain": [
       "LinearRegression()"
      ]
     },
     "execution_count": 34,
     "metadata": {},
     "output_type": "execute_result"
    }
   ],
   "source": [
    "model = LinearRegression()\n",
    "model.fit(X_train, y_train)"
   ]
  },
  {
   "cell_type": "code",
   "execution_count": 35,
   "id": "e4c5dd75-23d6-4c83-bf4f-c88aae514506",
   "metadata": {},
   "outputs": [
    {
     "data": {
      "text/plain": [
       "array([[0.0516612],\n",
       "       [0.4121577],\n",
       "       [0.6446718],\n",
       "       ...,\n",
       "       [0.6432646],\n",
       "       [1.1515211],\n",
       "       [0.011809 ]])"
      ]
     },
     "execution_count": 35,
     "metadata": {},
     "output_type": "execute_result"
    }
   ],
   "source": [
    "features"
   ]
  },
  {
   "cell_type": "code",
   "execution_count": 36,
   "id": "76e1643c-618b-4463-83df-ffdeea50be56",
   "metadata": {},
   "outputs": [],
   "source": [
    "y_model = model.predict(X_test)"
   ]
  },
  {
   "cell_type": "code",
   "execution_count": 37,
   "id": "ca917886-b453-420b-892e-dfe8d09a3a93",
   "metadata": {},
   "outputs": [
    {
     "data": {
      "text/plain": [
       "<bound method RegressorMixin.score of LinearRegression()>"
      ]
     },
     "execution_count": 37,
     "metadata": {},
     "output_type": "execute_result"
    }
   ],
   "source": [
    "model.score"
   ]
  },
  {
   "cell_type": "code",
   "execution_count": 38,
   "id": "c730cee1-4aa5-4d67-834b-8c142443c7cb",
   "metadata": {},
   "outputs": [
    {
     "data": {
      "text/plain": [
       "3523    0.904687\n",
       "8582    0.524401\n",
       "2534    2.184050\n",
       "8931    1.733850\n",
       "54      0.311188\n",
       "          ...   \n",
       "4472    1.675190\n",
       "2668    1.035340\n",
       "570     0.609842\n",
       "71      1.010650\n",
       "7967    0.803073\n",
       "Name: redshift, Length: 5639, dtype: float32"
      ]
     },
     "execution_count": 38,
     "metadata": {},
     "output_type": "execute_result"
    }
   ],
   "source": [
    "y_test"
   ]
  },
  {
   "cell_type": "code",
   "execution_count": 39,
   "id": "6d9ffeca-6f03-4d65-a30b-8f6cd4fee941",
   "metadata": {},
   "outputs": [
    {
     "data": {
      "text/plain": [
       "array([[1.00697415],\n",
       "       [0.59270762],\n",
       "       [1.16692357],\n",
       "       ...,\n",
       "       [0.58229804],\n",
       "       [0.98479285],\n",
       "       [0.33227545]])"
      ]
     },
     "execution_count": 39,
     "metadata": {},
     "output_type": "execute_result"
    }
   ],
   "source": [
    "y_model.reshape(-1, 1)"
   ]
  },
  {
   "cell_type": "code",
   "execution_count": 40,
   "id": "059922c7-09bc-49d5-a462-968bc333b6d9",
   "metadata": {},
   "outputs": [],
   "source": [
    "# y_model = y_model[:, np.newaxis]"
   ]
  },
  {
   "cell_type": "code",
   "execution_count": 41,
   "id": "6a112ea7-a665-4d51-9d96-c616dfc2a425",
   "metadata": {},
   "outputs": [],
   "source": [
    "# y_test = y_test[:, np.newaxis]"
   ]
  },
  {
   "cell_type": "code",
   "execution_count": 42,
   "id": "c382e3e7-927b-4988-ac62-ff8372095e99",
   "metadata": {},
   "outputs": [
    {
     "data": {
      "text/plain": [
       "((5639,), (5639,))"
      ]
     },
     "execution_count": 42,
     "metadata": {},
     "output_type": "execute_result"
    }
   ],
   "source": [
    "y_test.shape, y_model.shape"
   ]
  },
  {
   "cell_type": "code",
   "execution_count": 44,
   "id": "b3b2f091-6eae-4a54-9f70-3088117929d8",
   "metadata": {},
   "outputs": [
    {
     "data": {
      "text/plain": [
       "-0.6054056771200538"
      ]
     },
     "execution_count": 44,
     "metadata": {},
     "output_type": "execute_result"
    }
   ],
   "source": [
    "model.score(y_model.reshape(-1,1), y_test)"
   ]
  },
  {
   "cell_type": "code",
   "execution_count": 48,
   "id": "7df26050-b0d4-4cc1-ab13-95ee2fb6a1af",
   "metadata": {},
   "outputs": [
    {
     "data": {
      "text/plain": [
       "array([-0.48222215])"
      ]
     },
     "execution_count": 48,
     "metadata": {},
     "output_type": "execute_result"
    }
   ],
   "source": [
    "model.coef_"
   ]
  },
  {
   "cell_type": "code",
   "execution_count": 49,
   "id": "022ab515-d4d2-46f7-b2df-8383c4784a4f",
   "metadata": {},
   "outputs": [
    {
     "data": {
      "text/plain": [
       "1.304046287005006"
      ]
     },
     "execution_count": 49,
     "metadata": {},
     "output_type": "execute_result"
    }
   ],
   "source": [
    "model.intercept_"
   ]
  },
  {
   "cell_type": "code",
   "execution_count": 56,
   "id": "acba5f13-271e-4c95-8529-f071cdc4707c",
   "metadata": {},
   "outputs": [],
   "source": [
    "redshift_predict = model.coef_ * df2['grcolor'] + model.intercept_"
   ]
  },
  {
   "cell_type": "code",
   "execution_count": 57,
   "id": "9cbc3b57-925c-4e02-afe9-e32e4320613e",
   "metadata": {},
   "outputs": [
    {
     "data": {
      "text/plain": [
       "[<matplotlib.lines.Line2D at 0x7f29dbdff160>]"
      ]
     },
     "execution_count": 57,
     "metadata": {},
     "output_type": "execute_result"
    },
    {
     "data": {
      "image/png": "[encoded data removed]",
      "text/plain": [
       "<Figure size 432x288 with 1 Axes>"
      ]
     },
     "metadata": {
      "needs_background": "light"
     },
     "output_type": "display_data"
    }
   ],
   "source": [
    "plt.scatter(df2['grcolor'], df2['redshift'], color='green')\n",
    "plt.plot(df2['grcolor'], redshift_predict, color='blue')"
   ]
  },
  {
   "cell_type": "code",
   "execution_count": null,
   "id": "14522d2c-03d9-4ea6-b719-985c86fdf343",
   "metadata": {},
   "outputs": [],
   "source": []
  }
 ],
 "metadata": {
  "kernelspec": {
   "display_name": "LSST",
   "language": "python",
   "name": "lsst"
  },
  "language_info": {
   "codemirror_mode": {
    "name": "ipython",
    "version": 3
   },
   "file_extension": ".py",
   "mimetype": "text/x-python",
   "name": "python",
   "nbconvert_exporter": "python",
   "pygments_lexer": "ipython3",
   "version": "3.10.4"
  }
 },
 "nbformat": 4,
 "nbformat_minor": 5
}
