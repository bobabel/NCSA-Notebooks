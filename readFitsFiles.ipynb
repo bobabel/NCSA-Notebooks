{
 "cells": [
  {
   "cell_type": "code",
   "execution_count": 7,
   "id": "9f37e9b3",
   "metadata": {},
   "outputs": [],
   "source": [
    "from astropy.io import fits\n",
    "from astropy.utils.data import get_pkg_data_filename\n",
    "from astropy.table import Table"
   ]
  },
  {
   "cell_type": "code",
   "execution_count": 8,
   "id": "ec75a488",
   "metadata": {},
   "outputs": [],
   "source": [
    "event_filename = get_pkg_data_filename('/datasets/hsc/repo/rerun/DM-13666/DEEP/deepCoadd-results/HSC-I/9813/6,7/calexp-HSC-I-9813-6,7.fits')"
   ]
  },
  {
   "cell_type": "code",
   "execution_count": 9,
   "id": "f51ddfb1",
   "metadata": {},
   "outputs": [
    {
     "name": "stdout",
     "output_type": "stream",
     "text": [
      "Filename: /datasets/hsc/repo/rerun/DM-13666/DEEP/deepCoadd-results/HSC-I/9813/6,7/calexp-HSC-I-9813-6,7.fits\n",
      "No.    Name      Ver    Type      Cards   Dimensions   Format\n",
      "  0  PRIMARY       1 PrimaryHDU      18   ()      \n",
      "  1  COMPRESSED_IMAGE    1 CompImageHDU     34   (4200, 4200)   float32   \n",
      "  2  COMPRESSED_IMAGE    1 CompImageHDU     51   (4200, 4200)   int32   \n",
      "  3  COMPRESSED_IMAGE    1 CompImageHDU     34   (4200, 4200)   float32   \n",
      "  4                1 BinTableHDU     40   3619R x 7C   [1J, 1J, 1J, 1J, 1J, 64A, 64A]   \n",
      "  5                1 BinTableHDU     76   10R x 15C   [1J, 1J, 1J, 1J, 1J, 1J, 1J, 1K, 1J, 1J, 1J, 1J, 1J, 1D, 32A]   \n",
      "  6                1 BinTableHDU     16   65R x 1C   [1QB(28785)]   \n",
      "  7                1 BinTableHDU     22   63R x 2C   [1D, 1D]   \n",
      "  8                1 BinTableHDU    103   53R x 19C   [1K, 1D, 1D, 1K, 1D, 1D, 1D, 1D, 1D, 1D, 1D, 1D, 1J, 1D, 1D, 1D, 1D, 1D, 1D]   \n",
      "  9                1 BinTableHDU     84   53R x 17C   [1J, 1J, 1J, 1J, 1J, 1J, 1J, 1K, 1J, 1J, 1J, 1J, 1J, 1K, 1J, 1D, 32A]   \n",
      " 10                1 BinTableHDU     51   53R x 9C   [1J, 1J, 1J, 1J, 1J, 1J, 1D, 1D, 1E]   \n",
      " 11                1 BinTableHDU     44   53R x 8C   [2J, 1J, 6D, 6D, 3J, 39366E, 2D, 2D]   \n",
      " 12                1 BinTableHDU     20   2484R x 2C   [64A, 1J]   \n",
      " 13                1 BinTableHDU     40   1219R x 6C   [1J, 1J, 1J, 1J, 1J, 9D]   \n",
      " 14                1 BinTableHDU     40   1219R x 6C   [1J, 1J, 1J, 1J, 1J, 1D]   \n",
      " 15                1 BinTableHDU     20   272R x 2C   [1D, 1D]   \n",
      " 16                1 BinTableHDU     20   265R x 2C   [1J, 1J]   \n",
      " 17                1 BinTableHDU     20   53R x 2C   [1J, 1J]   \n",
      " 18                1 BinTableHDU     29   265R x 4C   [1D, 1D, 1QD(1000), 1QD(1000)]   \n",
      " 19                1 BinTableHDU     33   53R x 5C   [1D, 1D, 1QD(16791), 1QD(579), 1QD(29)]   \n",
      " 20                1 BinTableHDU     16   53R x 1C   [1QB(582)]   \n",
      " 21                1 BinTableHDU     45   46R x 7C   [1X, 1J, 1J, 1J, 1J, 1J, 1D]   \n",
      " 22                1 BinTableHDU     28   2438R x 4C   [1J, 1J, 1J, 1D]   \n",
      " 23                1 BinTableHDU     34   1R x 5C   [1J, 1J, 1D, 1D, 32A]   \n",
      " 24                1 BinTableHDU     72   53R x 14C   [1J, 1J, 1J, 1J, 1J, 1J, 1J, 1K, 1J, 1J, 1J, 1J, 1J, 1D]   \n",
      " 25                1 BinTableHDU     32   1R x 5C   [1J, 1D, 1D, 1D, 1D]   \n",
      " 26                1 BinTableHDU     48   53R x 8C   [1J, 1J, 1J, 1D, 1D, 1D, 1D, 1D]   \n"
     ]
    }
   ],
   "source": [
    "fits.info(event_filename)"
   ]
  },
  {
   "cell_type": "code",
   "execution_count": 56,
   "id": "55177df8",
   "metadata": {},
   "outputs": [
    {
     "name": "stdout",
     "output_type": "stream",
     "text": [
      "4 <TableColumns names=('id','cat.archive','cat.persistable','row0','nrows','name','module')>\n",
      "5 <TableColumns names=('wcs','psf','calib','apCorrMap','validPolygon','visitInfo','transmissionCurve','id','bbox_min_x','bbox_min_y','bbox_max_x','bbox_max_y','goodpix','weight','filter')>\n",
      "6 <TableColumns names=('wcs')>\n",
      "7 <TableColumns names=('fluxmag0','fluxmag0.err')>\n",
      "8 <TableColumns names=('exposureid','exposuretime','darktime','tai','ut1','era','boresightradec_ra','boresightradec_dec','boresightazalt_az','boresightazalt_alt','boresightairmass','boresightrotangle','rottype','latitude','longitude','elevation','airtemperature','airpressure','humidity')>\n",
      "9 <TableColumns names=('wcs','psf','calib','apCorrMap','validPolygon','visitInfo','transmissionCurve','id','bbox_min_x','bbox_min_y','bbox_max_x','bbox_max_y','ccd','visit','goodpix','weight','filter')>\n",
      "10 <TableColumns names=('ndim','ngroup','ncoeff','_size_size','_comp_size','_context_size','averagePosition_x','averagePosition_y','_pixstep')>\n",
      "11 <TableColumns names=('group','degree','basis','coeff','_size','_comp','_context_first','_context_second')>\n",
      "12 <TableColumns names=('name','field')>\n",
      "13 <TableColumns names=('order_x','bbox_min_x','bbox_min_y','bbox_max_x','bbox_max_y','coefficients')>\n",
      "14 <TableColumns names=('order_x','bbox_min_x','bbox_min_y','bbox_max_x','bbox_max_y','coefficients')>\n",
      "15 <TableColumns names=('vertices_x','vertices_y')>\n",
      "16 <TableColumns names=('a','b')>\n",
      "17 <TableColumns names=('nested','transform')>\n",
      "18 <TableColumns names=('throughputAtMin','throughputAtMax','throughput','wavelengths')>\n",
      "19 <TableColumns names=('throughputAtMin','throughputAtMax','throughput','wavelengths','radii')>\n",
      "20 <TableColumns names=('bytes')>\n",
      "21 <TableColumns names=('flags','bbox_min_x','bbox_min_y','bbox_max_x','bbox_max_y','coaddWcs','default')>\n",
      "22 <TableColumns names=('field','wcs','validPolygon','weight')>\n",
      "23 <TableColumns names=('coaddwcs','cachesize','avgpos_x','avgpos_y','warpingkernelname')>\n",
      "24 <TableColumns names=('wcs','psf','calib','apCorrMap','validPolygon','visitInfo','transmissionCurve','id','bbox_min_x','bbox_min_y','bbox_max_x','bbox_max_y','goodpix','weight')>\n",
      "25 <TableColumns names=('coaddWcs','wavelengthMin','wavelengthMax','throughputAtMin','throughputAtMax')>\n"
     ]
    }
   ],
   "source": [
    "events = []\n",
    "for i in range(22):\n",
    "    events.append(Table.read(event_filename, hdu=i+4))\n",
    "    print(i+4, events[i].columns)"
   ]
  },
  {
   "cell_type": "code",
   "execution_count": 57,
   "id": "cb3a70f7",
   "metadata": {},
   "outputs": [],
   "source": [
    "event_filename = get_pkg_data_filename('/datasets/hsc/repo/rerun/DM-13666/DEEP/deepCoadd-results/HSC-I/9813/6,7/det_bkgd-HSC-I-9813-6,7.fits')"
   ]
  },
  {
   "cell_type": "code",
   "execution_count": 58,
   "id": "d4c2abc7",
   "metadata": {},
   "outputs": [
    {
     "name": "stdout",
     "output_type": "stream",
     "text": [
      "Filename: /datasets/hsc/repo/rerun/DM-13666/DEEP/deepCoadd-results/HSC-I/9813/6,7/det_bkgd-HSC-I-9813-6,7.fits\n",
      "No.    Name      Ver    Type      Cards   Dimensions   Format\n",
      "  0  PRIMARY       1 PrimaryHDU      28   (1, 1)   float32   \n",
      "  1                1 ImageHDU        44   (1, 1)   int32   \n",
      "  2                1 ImageHDU        27   (1, 1)   float32   \n"
     ]
    }
   ],
   "source": [
    "fits.info(event_filename)"
   ]
  },
  {
   "cell_type": "code",
   "execution_count": 61,
   "id": "6b7f613d",
   "metadata": {},
   "outputs": [],
   "source": [
    "event_filename = get_pkg_data_filename('/datasets/hsc/repo/rerun/DM-13666/DEEP/deepCoadd-results/HSC-I/9813/6,7/det-HSC-I-9813-6,7.fits')\n"
   ]
  },
  {
   "cell_type": "code",
   "execution_count": 62,
   "id": "3ea489fd",
   "metadata": {},
   "outputs": [
    {
     "name": "stdout",
     "output_type": "stream",
     "text": [
      "Filename: /datasets/hsc/repo/rerun/DM-13666/DEEP/deepCoadd-results/HSC-I/9813/6,7/det-HSC-I-9813-6,7.fits\n",
      "No.    Name      Ver    Type      Cards   Dimensions   Format\n",
      "  0  PRIMARY       1 PrimaryHDU       6   ()      \n",
      "  1                1 BinTableHDU     33   11891R x 5C   [1K, 1D, 1D, 1K, 1J]   \n",
      "  2                1 BinTableHDU     40   35673R x 7C   [1J, 1J, 1J, 1J, 1J, 64A, 64A]   \n",
      "  3                1 BinTableHDU     16   11891R x 1C   [1J]   \n",
      "  4                1 BinTableHDU     27   214638R x 3C   [1J, 1J, 1J]   \n",
      "  5                1 BinTableHDU     41   18769R x 6C   [1K, 1E, 1E, 1J, 1J, 1E]   \n"
     ]
    }
   ],
   "source": [
    "fits.info(event_filename)"
   ]
  },
  {
   "cell_type": "code",
   "execution_count": 65,
   "id": "4d78946b",
   "metadata": {},
   "outputs": [
    {
     "name": "stdout",
     "output_type": "stream",
     "text": [
      "1 <TableColumns names=('id','coord_ra','coord_dec','parent','footprint')>\n",
      "2 <TableColumns names=('id','cat.archive','cat.persistable','row0','nrows','name','module')>\n",
      "3 <TableColumns names=('id')>\n",
      "4 <TableColumns names=('y','x0','x1')>\n"
     ]
    }
   ],
   "source": [
    "events = []\n",
    "for i in range(4):\n",
    "    events.append(Table.read(event_filename, hdu=i+1))\n",
    "    print(i+1, events[i].columns)"
   ]
  },
  {
   "cell_type": "code",
   "execution_count": 66,
   "id": "a2bc250f",
   "metadata": {},
   "outputs": [],
   "source": [
    "event_filename = get_pkg_data_filename('/datasets/hsc/repo/rerun/DM-13666/DEEP/deepCoadd-results/HSC-I/9813/6,7/forced_src-HSC-I-9813-6,7.fits')\n"
   ]
  },
  {
   "cell_type": "code",
   "execution_count": 67,
   "id": "403b8ce6",
   "metadata": {},
   "outputs": [
    {
     "name": "stdout",
     "output_type": "stream",
     "text": [
      "Filename: /datasets/hsc/repo/rerun/DM-13666/DEEP/deepCoadd-results/HSC-I/9813/6,7/forced_src-HSC-I-9813-6,7.fits\n",
      "No.    Name      Ver    Type      Cards   Dimensions   Format\n",
      "  0  PRIMARY       1 PrimaryHDU       6   ()      \n",
      "  1                1 BinTableHDU   1453   25770R x 206C   [208X, 1K, 1D, 1D, 1K, 1J, 1D, 1D, 1E, 1E, 1D, 1D, 1J, 1D, 1D, 1D, 1E, 1E, 1E, 1D, 1D, 1D, 1D, 1D, 1D, 1D, 1E, 1E, 1E, 1D, 1D, 1D, 1D, 1D, 1D, 1D, 1D, 1D, 1D, 1D, 1D, 1D, 1D, 1D, 1D, 1D, 1D, 1D, 1D, 1D, 1D, 1D, 1D, 1D, 1D, 1D, 1D, 1D, 1D, 1D, 1D, 1D, 1D, 1D, 1D, 1D, 1D, 1D, 1D, 1D, 1D, 1D, 1D, 1D, 1D, 1D, 1D, 1E, 1D, 1D, 1D, 1E, 1E, 1E, 1E, 1D, 1D, 1D, 1D, 1D, 1D, 1D, 1D, 1D, 1D, 1D, 1D, 1D, 1D, 1D, 1D, 1D, 1D, 1D, 1D, 1D, 1D, 1D, 1D, 1D, 1D, 1D, 1D, 1D, 1D, 1D, 1D, 1D, 1D, 1D, 1D, 1D, 1D, 1D, 1D, 1D, 1D, 1D, 1D, 1D, 1D, 1D, 1D, 1D, 1D, 1D, 1D, 1D, 1D, 1D, 1D, 1D, 1D, 1D, 1D, 1D, 1D, 1D, 1D, 1D, 1D, 1D, 1D, 1E, 1D, 1D, 1E, 1E, 1E, 1D, 1D, 1D, 1D, 1D, 1D, 1D, 1D, 1D, 1D, 1D, 1D, 1D, 1D, 1D, 1D, 1D, 1D, 1D, 1D, 1D, 1D, 1D, 1D, 1D, 1D, 1D, 1D, 1D, 1D, 1D, 1D, 1D, 1D, 1D, 1D, 1D, 1D, 1D, 1D, 1D, 1D, 1D, 1D, 1D, 1D, 1D]   \n"
     ]
    }
   ],
   "source": [
    "fits.info(event_filename)"
   ]
  },
  {
   "cell_type": "code",
   "execution_count": 68,
   "id": "75a6b519",
   "metadata": {},
   "outputs": [],
   "source": [
    "events = Table.read(event_filename, hdu=1)"
   ]
  },
  {
   "cell_type": "code",
   "execution_count": 69,
   "id": "ec1d3689",
   "metadata": {},
   "outputs": [
    {
     "name": "stdout",
     "output_type": "stream",
     "text": [
      "<TableColumns names=('flags','id','coord_ra','coord_dec','parent','deblend_nChild','base_SdssCentroid_x','base_SdssCentroid_y','base_SdssCentroid_xSigma','base_SdssCentroid_ySigma','base_TransformedCentroid_x','base_TransformedCentroid_y','base_InputCount_value','base_SdssShape_xx','base_SdssShape_yy','base_SdssShape_xy','base_SdssShape_xxSigma','base_SdssShape_yySigma','base_SdssShape_xySigma','base_SdssShape_x','base_SdssShape_y','base_SdssShape_flux','base_SdssShape_fluxSigma','base_SdssShape_psf_xx','base_SdssShape_psf_yy','base_SdssShape_psf_xy','base_SdssShape_flux_xx_Cov','base_SdssShape_flux_yy_Cov','base_SdssShape_flux_xy_Cov','base_TransformedShape_xx','base_TransformedShape_yy','base_TransformedShape_xy','modelfit_DoubleShapeletPsfApprox_0_xx','modelfit_DoubleShapeletPsfApprox_0_yy','modelfit_DoubleShapeletPsfApprox_0_xy','modelfit_DoubleShapeletPsfApprox_0_x','modelfit_DoubleShapeletPsfApprox_0_y','modelfit_DoubleShapeletPsfApprox_0_0','modelfit_DoubleShapeletPsfApprox_0_1','modelfit_DoubleShapeletPsfApprox_0_2','modelfit_DoubleShapeletPsfApprox_0_3','modelfit_DoubleShapeletPsfApprox_0_4','modelfit_DoubleShapeletPsfApprox_0_5','modelfit_DoubleShapeletPsfApprox_1_xx','modelfit_DoubleShapeletPsfApprox_1_yy','modelfit_DoubleShapeletPsfApprox_1_xy','modelfit_DoubleShapeletPsfApprox_1_x','modelfit_DoubleShapeletPsfApprox_1_y','modelfit_DoubleShapeletPsfApprox_1_0','modelfit_DoubleShapeletPsfApprox_1_1','modelfit_DoubleShapeletPsfApprox_1_2','base_CircularApertureFlux_3_0_flux','base_CircularApertureFlux_3_0_fluxSigma','base_CircularApertureFlux_4_5_flux','base_CircularApertureFlux_4_5_fluxSigma','base_CircularApertureFlux_6_0_flux','base_CircularApertureFlux_6_0_fluxSigma','base_CircularApertureFlux_9_0_flux','base_CircularApertureFlux_9_0_fluxSigma','base_CircularApertureFlux_12_0_flux','base_CircularApertureFlux_12_0_fluxSigma','base_CircularApertureFlux_17_0_flux','base_CircularApertureFlux_17_0_fluxSigma','base_CircularApertureFlux_25_0_flux','base_CircularApertureFlux_25_0_fluxSigma','base_CircularApertureFlux_35_0_flux','base_CircularApertureFlux_35_0_fluxSigma','base_CircularApertureFlux_50_0_flux','base_CircularApertureFlux_50_0_fluxSigma','base_CircularApertureFlux_70_0_flux','base_CircularApertureFlux_70_0_fluxSigma','base_GaussianFlux_flux','base_GaussianFlux_fluxSigma','base_LocalBackground_flux','base_LocalBackground_fluxSigma','base_PsfFlux_flux','base_PsfFlux_fluxSigma','base_PsfFlux_area','base_Variance_value','ext_photometryKron_KronFlux_flux','ext_photometryKron_KronFlux_fluxSigma','ext_photometryKron_KronFlux_radius','ext_photometryKron_KronFlux_radius_for_radius','ext_photometryKron_KronFlux_psf_radius','ext_convolved_ConvolvedFlux_seeing','ext_convolved_ConvolvedFlux_0_3_3_flux','ext_convolved_ConvolvedFlux_0_3_3_fluxSigma','ext_convolved_ConvolvedFlux_0_4_5_flux','ext_convolved_ConvolvedFlux_0_4_5_fluxSigma','ext_convolved_ConvolvedFlux_0_6_0_flux','ext_convolved_ConvolvedFlux_0_6_0_fluxSigma','ext_convolved_ConvolvedFlux_0_kron_flux','ext_convolved_ConvolvedFlux_0_kron_fluxSigma','ext_convolved_ConvolvedFlux_1_3_3_flux','ext_convolved_ConvolvedFlux_1_3_3_fluxSigma','ext_convolved_ConvolvedFlux_1_4_5_flux','ext_convolved_ConvolvedFlux_1_4_5_fluxSigma','ext_convolved_ConvolvedFlux_1_6_0_flux','ext_convolved_ConvolvedFlux_1_6_0_fluxSigma','ext_convolved_ConvolvedFlux_1_kron_flux','ext_convolved_ConvolvedFlux_1_kron_fluxSigma','ext_convolved_ConvolvedFlux_2_3_3_flux','ext_convolved_ConvolvedFlux_2_3_3_fluxSigma','ext_convolved_ConvolvedFlux_2_4_5_flux','ext_convolved_ConvolvedFlux_2_4_5_fluxSigma','ext_convolved_ConvolvedFlux_2_6_0_flux','ext_convolved_ConvolvedFlux_2_6_0_fluxSigma','ext_convolved_ConvolvedFlux_2_kron_flux','ext_convolved_ConvolvedFlux_2_kron_fluxSigma','ext_convolved_ConvolvedFlux_3_3_3_flux','ext_convolved_ConvolvedFlux_3_3_3_fluxSigma','ext_convolved_ConvolvedFlux_3_4_5_flux','ext_convolved_ConvolvedFlux_3_4_5_fluxSigma','ext_convolved_ConvolvedFlux_3_6_0_flux','ext_convolved_ConvolvedFlux_3_6_0_fluxSigma','ext_convolved_ConvolvedFlux_3_kron_flux','ext_convolved_ConvolvedFlux_3_kron_fluxSigma','modelfit_CModel_initial_flux','modelfit_CModel_initial_fluxSigma','modelfit_CModel_initial_flux_inner','modelfit_CModel_exp_flux','modelfit_CModel_exp_fluxSigma','modelfit_CModel_exp_flux_inner','modelfit_CModel_dev_flux','modelfit_CModel_dev_fluxSigma','modelfit_CModel_dev_flux_inner','modelfit_CModel_flux','modelfit_CModel_fluxSigma','modelfit_CModel_flux_inner','modelfit_CModel_fracDev','modelfit_CModel_objective','undeblended_base_CircularApertureFlux_3_0_flux','undeblended_base_CircularApertureFlux_3_0_fluxSigma','undeblended_base_CircularApertureFlux_4_5_flux','undeblended_base_CircularApertureFlux_4_5_fluxSigma','undeblended_base_CircularApertureFlux_6_0_flux','undeblended_base_CircularApertureFlux_6_0_fluxSigma','undeblended_base_CircularApertureFlux_9_0_flux','undeblended_base_CircularApertureFlux_9_0_fluxSigma','undeblended_base_CircularApertureFlux_12_0_flux','undeblended_base_CircularApertureFlux_12_0_fluxSigma','undeblended_base_CircularApertureFlux_17_0_flux','undeblended_base_CircularApertureFlux_17_0_fluxSigma','undeblended_base_CircularApertureFlux_25_0_flux','undeblended_base_CircularApertureFlux_25_0_fluxSigma','undeblended_base_CircularApertureFlux_35_0_flux','undeblended_base_CircularApertureFlux_35_0_fluxSigma','undeblended_base_CircularApertureFlux_50_0_flux','undeblended_base_CircularApertureFlux_50_0_fluxSigma','undeblended_base_CircularApertureFlux_70_0_flux','undeblended_base_CircularApertureFlux_70_0_fluxSigma','undeblended_base_PsfFlux_flux','undeblended_base_PsfFlux_fluxSigma','undeblended_base_PsfFlux_area','undeblended_ext_photometryKron_KronFlux_flux','undeblended_ext_photometryKron_KronFlux_fluxSigma','undeblended_ext_photometryKron_KronFlux_radius','undeblended_ext_photometryKron_KronFlux_radius_for_radius','undeblended_ext_photometryKron_KronFlux_psf_radius','modelfit_CModel_apCorr','modelfit_CModel_apCorrSigma','base_GaussianFlux_apCorr','base_GaussianFlux_apCorrSigma','ext_convolved_ConvolvedFlux_3_3_3_apCorr','ext_convolved_ConvolvedFlux_3_3_3_apCorrSigma','modelfit_CModel_dev_apCorr','modelfit_CModel_dev_apCorrSigma','modelfit_CModel_exp_apCorr','modelfit_CModel_exp_apCorrSigma','modelfit_CModel_initial_apCorr','modelfit_CModel_initial_apCorrSigma','ext_convolved_ConvolvedFlux_3_6_0_apCorr','ext_convolved_ConvolvedFlux_3_6_0_apCorrSigma','ext_convolved_ConvolvedFlux_2_kron_apCorr','ext_convolved_ConvolvedFlux_2_kron_apCorrSigma','base_PsfFlux_apCorr','base_PsfFlux_apCorrSigma','ext_convolved_ConvolvedFlux_2_3_3_apCorr','ext_convolved_ConvolvedFlux_2_3_3_apCorrSigma','ext_photometryKron_KronFlux_apCorr','ext_photometryKron_KronFlux_apCorrSigma','ext_convolved_ConvolvedFlux_1_kron_apCorr','ext_convolved_ConvolvedFlux_1_kron_apCorrSigma','ext_convolved_ConvolvedFlux_2_4_5_apCorr','ext_convolved_ConvolvedFlux_2_4_5_apCorrSigma','ext_convolved_ConvolvedFlux_3_4_5_apCorr','ext_convolved_ConvolvedFlux_3_4_5_apCorrSigma','ext_convolved_ConvolvedFlux_1_4_5_apCorr','ext_convolved_ConvolvedFlux_1_4_5_apCorrSigma','ext_convolved_ConvolvedFlux_0_4_5_apCorr','ext_convolved_ConvolvedFlux_0_4_5_apCorrSigma','ext_convolved_ConvolvedFlux_2_6_0_apCorr','ext_convolved_ConvolvedFlux_2_6_0_apCorrSigma','ext_convolved_ConvolvedFlux_1_6_0_apCorr','ext_convolved_ConvolvedFlux_1_6_0_apCorrSigma','ext_convolved_ConvolvedFlux_0_kron_apCorr','ext_convolved_ConvolvedFlux_0_kron_apCorrSigma','ext_convolved_ConvolvedFlux_1_3_3_apCorr','ext_convolved_ConvolvedFlux_1_3_3_apCorrSigma','ext_convolved_ConvolvedFlux_3_kron_apCorr','ext_convolved_ConvolvedFlux_3_kron_apCorrSigma','ext_convolved_ConvolvedFlux_0_6_0_apCorr','ext_convolved_ConvolvedFlux_0_6_0_apCorrSigma','ext_convolved_ConvolvedFlux_0_3_3_apCorr','ext_convolved_ConvolvedFlux_0_3_3_apCorrSigma','base_ClassificationExtendedness_value')>\n"
     ]
    }
   ],
   "source": [
    "print(events.columns)"
   ]
  },
  {
   "cell_type": "code",
   "execution_count": 70,
   "id": "62e88ca0",
   "metadata": {},
   "outputs": [],
   "source": [
    "event_filename = get_pkg_data_filename('/datasets/hsc/repo/rerun/DM-13666/DEEP/deepCoadd-results/HSC-I/9813/6,7/meas-HSC-I-9813-6,7.fits')\n"
   ]
  },
  {
   "cell_type": "code",
   "execution_count": 71,
   "id": "11b2102e",
   "metadata": {},
   "outputs": [
    {
     "name": "stdout",
     "output_type": "stream",
     "text": [
      "Filename: /datasets/hsc/repo/rerun/DM-13666/DEEP/deepCoadd-results/HSC-I/9813/6,7/meas-HSC-I-9813-6,7.fits\n",
      "No.    Name      Ver    Type      Cards   Dimensions   Format\n",
      "  0  PRIMARY       1 PrimaryHDU       6   ()      \n",
      "  1                1 BinTableHDU   1760   25770R x 263C   [237X, 1K, 1D, 1D, 1K, 1J, 1D, 1D, 1D, 1D, 1D, 1D, 1D, 1E, 1E, 1D, 1D, 1D, 1D, 1D, 1D, 1D, 1D, 1D, 1D, 1D, 1D, 1D, 1D, 1D, 1D, 1D, 1D, 1D, 1J, 1D, 1D, 1D, 1E, 1E, 1E, 1D, 1D, 1D, 1D, 1D, 1D, 1D, 1E, 1E, 1E, 1D, 1D, 1D, 1D, 1D, 1D, 1D, 1D, 1D, 1D, 1D, 1D, 1D, 1D, 1D, 1D, 1D, 1D, 1D, 1E, 1D, 1D, 1D, 1D, 1D, 1D, 1D, 1D, 1D, 1D, 1D, 1D, 1D, 1D, 1D, 1D, 1D, 1D, 1D, 1D, 1D, 1D, 1D, 1D, 1D, 1D, 1D, 1D, 1D, 1D, 1D, 1D, 1D, 1D, 1D, 1D, 1D, 1D, 1D, 1D, 1D, 1D, 1D, 1D, 1D, 1E, 1D, 1D, 1D, 1E, 1E, 1E, 1D, 1D, 1E, 1D, 1D, 1D, 1D, 1D, 1D, 1D, 1D, 1D, 1D, 1D, 1D, 1D, 1D, 1D, 1D, 1D, 1D, 1D, 1D, 1D, 1D, 1D, 1D, 1D, 1D, 1D, 1D, 1D, 1D, 1D, 1D, 1D, 1D, 1D, 1D, 1D, 1D, 1D, 1D, 1D, 1D, 1D, 1D, 1J, 1D, 1D, 1D, 1D, 1D, 1D, 1D, 1D, 1D, 1D, 1D, 1D, 1D, 1J, 1D, 1D, 1D, 1D, 1D, 1D, 1D, 1D, 1D, 1D, 1D, 1D, 1D, 1J, 1D, 1D, 1D, 1D, 1D, 1D, 1D, 1D, 1D, 1D, 1D, 1D, 1D, 1D, 1D, 1D, 1D, 1D, 1D, 1D, 1D, 1D, 1D, 1D, 1D, 1D, 1D, 1D, 1D, 1D, 1D, 1D, 1D, 1D, 1D, 1D, 1D, 1D, 1D, 1D, 1D, 1D, 1D, 1D, 1D, 1D, 1D, 1D, 1D, 1D, 1D, 1D, 1D, 1D, 1D, 1D, 1D, 1D, 1D, 1D, 1D, 1D, 1J, 1J]   \n",
      "  2                1 BinTableHDU     40   92328R x 7C   [1J, 1J, 1J, 1J, 1J, 64A, 64A]   \n",
      "  3                1 BinTableHDU     17   25770R x 1C   [1J]   \n",
      "  4                1 BinTableHDU     27   790794R x 3C   [1J, 1J, 1J]   \n",
      "  5                1 BinTableHDU     71   37477R x 7C   [13X, 1K, 1E, 1E, 1J, 1J, 1E]   \n",
      "  6                1 BinTableHDU     26   15018R x 3C   [1QE(62597), 1QJ(62597), 1QE(62597)]   \n"
     ]
    }
   ],
   "source": [
    "fits.info(event_filename)"
   ]
  },
  {
   "cell_type": "code",
   "execution_count": 72,
   "id": "713497eb",
   "metadata": {},
   "outputs": [
    {
     "name": "stdout",
     "output_type": "stream",
     "text": [
      "2 <TableColumns names=('id','cat.archive','cat.persistable','row0','nrows','name','module')>\n",
      "3 <TableColumns names=('id')>\n",
      "4 <TableColumns names=('y','x0','x1')>\n",
      "5 <TableColumns names=('flags','id','f_x','f_y','i_x','i_y','peakValue')>\n",
      "6 <TableColumns names=('image','mask','variance')>\n"
     ]
    }
   ],
   "source": [
    "events = []\n",
    "for i in range(5):\n",
    "    events.append(Table.read(event_filename, hdu=i+2))\n",
    "    print(i+2, events[i].columns)"
   ]
  },
  {
   "cell_type": "code",
   "execution_count": 73,
   "id": "48cc3ed2",
   "metadata": {},
   "outputs": [],
   "source": [
    "event_filename = get_pkg_data_filename('/datasets/hsc/repo/rerun/DM-13666/DEEP/deepCoadd-results/HSC-I/9813/6,7/srcMatchFull-HSC-I-9813-6,7.fits')\n"
   ]
  },
  {
   "cell_type": "code",
   "execution_count": 74,
   "id": "3ddee20b",
   "metadata": {},
   "outputs": [
    {
     "name": "stdout",
     "output_type": "stream",
     "text": [
      "Filename: /datasets/hsc/repo/rerun/DM-13666/DEEP/deepCoadd-results/HSC-I/9813/6,7/srcMatchFull-HSC-I-9813-6,7.fits\n",
      "No.    Name      Ver    Type      Cards   Dimensions   Format\n",
      "  0  PRIMARY       1 PrimaryHDU       6   ()      \n",
      "  1                1 BinTableHDU   1772   1362R x 286C   [238X, 1K, 1D, 1D, 1K, 1D, 1D, 1D, 1D, 1D, 1D, 1D, 1D, 1D, 1D, 1E, 1E, 1K, 1E, 1E, 1E, 1E, 1D, 1D, 1K, 1D, 1D, 1K, 1J, 1D, 1D, 1D, 1D, 1D, 1D, 1D, 1E, 1E, 1D, 1D, 1D, 1D, 1D, 1D, 1D, 1D, 1D, 1D, 1D, 1D, 1D, 1D, 1D, 1D, 1D, 1D, 1D, 1J, 1D, 1D, 1D, 1E, 1E, 1E, 1D, 1D, 1D, 1D, 1D, 1D, 1D, 1E, 1E, 1E, 1D, 1D, 1D, 1D, 1D, 1D, 1D, 1D, 1D, 1D, 1D, 1D, 1D, 1D, 1D, 1D, 1D, 1D, 1D, 1E, 1D, 1D, 1D, 1D, 1D, 1D, 1D, 1D, 1D, 1D, 1D, 1D, 1D, 1D, 1D, 1D, 1D, 1D, 1D, 1D, 1D, 1D, 1D, 1D, 1D, 1D, 1D, 1D, 1D, 1D, 1D, 1D, 1D, 1D, 1D, 1D, 1D, 1D, 1D, 1D, 1D, 1D, 1D, 1D, 1D, 1E, 1D, 1D, 1D, 1E, 1E, 1E, 1D, 1D, 1E, 1D, 1D, 1D, 1D, 1D, 1D, 1D, 1D, 1D, 1D, 1D, 1D, 1D, 1D, 1D, 1D, 1D, 1D, 1D, 1D, 1D, 1D, 1D, 1D, 1D, 1D, 1D, 1D, 1D, 1D, 1D, 1D, 1D, 1D, 1D, 1D, 1D, 1D, 1D, 1D, 1D, 1D, 1D, 1D, 1J, 1D, 1D, 1D, 1D, 1D, 1D, 1D, 1D, 1D, 1D, 1D, 1D, 1D, 1J, 1D, 1D, 1D, 1D, 1D, 1D, 1D, 1D, 1D, 1D, 1D, 1D, 1D, 1J, 1D, 1D, 1D, 1D, 1D, 1D, 1D, 1D, 1D, 1D, 1D, 1D, 1D, 1D, 1D, 1D, 1D, 1D, 1D, 1D, 1D, 1D, 1D, 1D, 1D, 1D, 1D, 1D, 1D, 1D, 1D, 1D, 1D, 1D, 1D, 1D, 1D, 1D, 1D, 1D, 1D, 1D, 1D, 1D, 1D, 1D, 1D, 1D, 1D, 1D, 1D, 1D, 1D, 1D, 1D, 1D, 1D, 1D, 1D, 1D, 1D, 1D, 1J, 1D]   \n"
     ]
    }
   ],
   "source": [
    "fits.info(event_filename)"
   ]
  },
  {
   "cell_type": "code",
   "execution_count": 75,
   "id": "d4c71122",
   "metadata": {},
   "outputs": [],
   "source": [
    "events = Table.read(event_filename, hdu=1)"
   ]
  },
  {
   "cell_type": "code",
   "execution_count": 76,
   "id": "899f8a08",
   "metadata": {},
   "outputs": [
    {
     "name": "stdout",
     "output_type": "stream",
     "text": [
      "<TableColumns names=('flags','ref_id','ref_coord_ra','ref_coord_dec','ref_parent','ref_g_flux','ref_r_flux','ref_i_flux','ref_z_flux','ref_y_flux','ref_i_fluxSigma','ref_y_fluxSigma','ref_r_fluxSigma','ref_z_fluxSigma','ref_g_fluxSigma','ref_coord_ra_err','ref_coord_dec_err','ref_epoch','ref_pm_ra','ref_pm_dec','ref_pm_ra_err','ref_pm_dec_err','ref_centroid_x','ref_centroid_y','src_id','src_coord_ra','src_coord_dec','src_parent','src_deblend_nChild','src_deblend_psfCenter_x','src_deblend_psfCenter_y','src_deblend_psfFlux','src_base_NaiveCentroid_x','src_base_NaiveCentroid_y','src_base_SdssCentroid_x','src_base_SdssCentroid_y','src_base_SdssCentroid_xSigma','src_base_SdssCentroid_ySigma','src_base_Blendedness_old','src_base_Blendedness_raw_flux','src_base_Blendedness_raw_flux_child','src_base_Blendedness_raw_flux_parent','src_base_Blendedness_abs_flux','src_base_Blendedness_abs_flux_child','src_base_Blendedness_abs_flux_parent','src_base_Blendedness_raw_child_xx','src_base_Blendedness_raw_child_yy','src_base_Blendedness_raw_child_xy','src_base_Blendedness_raw_parent_xx','src_base_Blendedness_raw_parent_yy','src_base_Blendedness_raw_parent_xy','src_base_Blendedness_abs_child_xx','src_base_Blendedness_abs_child_yy','src_base_Blendedness_abs_child_xy','src_base_Blendedness_abs_parent_xx','src_base_Blendedness_abs_parent_yy','src_base_Blendedness_abs_parent_xy','src_base_InputCount_value','src_base_SdssShape_xx','src_base_SdssShape_yy','src_base_SdssShape_xy','src_base_SdssShape_xxSigma','src_base_SdssShape_yySigma','src_base_SdssShape_xySigma','src_base_SdssShape_x','src_base_SdssShape_y','src_base_SdssShape_flux','src_base_SdssShape_fluxSigma','src_base_SdssShape_psf_xx','src_base_SdssShape_psf_yy','src_base_SdssShape_psf_xy','src_base_SdssShape_flux_xx_Cov','src_base_SdssShape_flux_yy_Cov','src_base_SdssShape_flux_xy_Cov','src_ext_shapeHSM_HsmPsfMoments_x','src_ext_shapeHSM_HsmPsfMoments_y','src_ext_shapeHSM_HsmPsfMoments_xx','src_ext_shapeHSM_HsmPsfMoments_yy','src_ext_shapeHSM_HsmPsfMoments_xy','src_ext_shapeHSM_HsmShapeRegauss_e1','src_ext_shapeHSM_HsmShapeRegauss_e2','src_ext_shapeHSM_HsmShapeRegauss_sigma','src_ext_shapeHSM_HsmShapeRegauss_resolution','src_ext_shapeHSM_HsmSourceMoments_x','src_ext_shapeHSM_HsmSourceMoments_y','src_ext_shapeHSM_HsmSourceMoments_xx','src_ext_shapeHSM_HsmSourceMoments_yy','src_ext_shapeHSM_HsmSourceMoments_xy','src_ext_shapeHSM_HsmSourceMomentsRound_x','src_ext_shapeHSM_HsmSourceMomentsRound_y','src_ext_shapeHSM_HsmSourceMomentsRound_xx','src_ext_shapeHSM_HsmSourceMomentsRound_yy','src_ext_shapeHSM_HsmSourceMomentsRound_xy','src_ext_shapeHSM_HsmSourceMomentsRound_Flux','src_modelfit_DoubleShapeletPsfApprox_0_xx','src_modelfit_DoubleShapeletPsfApprox_0_yy','src_modelfit_DoubleShapeletPsfApprox_0_xy','src_modelfit_DoubleShapeletPsfApprox_0_x','src_modelfit_DoubleShapeletPsfApprox_0_y','src_modelfit_DoubleShapeletPsfApprox_0_0','src_modelfit_DoubleShapeletPsfApprox_0_1','src_modelfit_DoubleShapeletPsfApprox_0_2','src_modelfit_DoubleShapeletPsfApprox_0_3','src_modelfit_DoubleShapeletPsfApprox_0_4','src_modelfit_DoubleShapeletPsfApprox_0_5','src_modelfit_DoubleShapeletPsfApprox_1_xx','src_modelfit_DoubleShapeletPsfApprox_1_yy','src_modelfit_DoubleShapeletPsfApprox_1_xy','src_modelfit_DoubleShapeletPsfApprox_1_x','src_modelfit_DoubleShapeletPsfApprox_1_y','src_modelfit_DoubleShapeletPsfApprox_1_0','src_modelfit_DoubleShapeletPsfApprox_1_1','src_modelfit_DoubleShapeletPsfApprox_1_2','src_base_CircularApertureFlux_3_0_flux','src_base_CircularApertureFlux_3_0_fluxSigma','src_base_CircularApertureFlux_4_5_flux','src_base_CircularApertureFlux_4_5_fluxSigma','src_base_CircularApertureFlux_6_0_flux','src_base_CircularApertureFlux_6_0_fluxSigma','src_base_CircularApertureFlux_9_0_flux','src_base_CircularApertureFlux_9_0_fluxSigma','src_base_CircularApertureFlux_12_0_flux','src_base_CircularApertureFlux_12_0_fluxSigma','src_base_CircularApertureFlux_17_0_flux','src_base_CircularApertureFlux_17_0_fluxSigma','src_base_CircularApertureFlux_25_0_flux','src_base_CircularApertureFlux_25_0_fluxSigma','src_base_CircularApertureFlux_35_0_flux','src_base_CircularApertureFlux_35_0_fluxSigma','src_base_CircularApertureFlux_50_0_flux','src_base_CircularApertureFlux_50_0_fluxSigma','src_base_CircularApertureFlux_70_0_flux','src_base_CircularApertureFlux_70_0_fluxSigma','src_base_GaussianFlux_flux','src_base_GaussianFlux_fluxSigma','src_base_LocalBackground_flux','src_base_LocalBackground_fluxSigma','src_base_PsfFlux_flux','src_base_PsfFlux_fluxSigma','src_base_PsfFlux_area','src_base_Variance_value','src_ext_photometryKron_KronFlux_flux','src_ext_photometryKron_KronFlux_fluxSigma','src_ext_photometryKron_KronFlux_radius','src_ext_photometryKron_KronFlux_radius_for_radius','src_ext_photometryKron_KronFlux_psf_radius','src_subaru_FilterFraction_unweighted','src_subaru_FilterFraction_weighted','src_ext_convolved_ConvolvedFlux_seeing','src_ext_convolved_ConvolvedFlux_0_3_3_flux','src_ext_convolved_ConvolvedFlux_0_3_3_fluxSigma','src_ext_convolved_ConvolvedFlux_0_4_5_flux','src_ext_convolved_ConvolvedFlux_0_4_5_fluxSigma','src_ext_convolved_ConvolvedFlux_0_6_0_flux','src_ext_convolved_ConvolvedFlux_0_6_0_fluxSigma','src_ext_convolved_ConvolvedFlux_0_kron_flux','src_ext_convolved_ConvolvedFlux_0_kron_fluxSigma','src_ext_convolved_ConvolvedFlux_1_3_3_flux','src_ext_convolved_ConvolvedFlux_1_3_3_fluxSigma','src_ext_convolved_ConvolvedFlux_1_4_5_flux','src_ext_convolved_ConvolvedFlux_1_4_5_fluxSigma','src_ext_convolved_ConvolvedFlux_1_6_0_flux','src_ext_convolved_ConvolvedFlux_1_6_0_fluxSigma','src_ext_convolved_ConvolvedFlux_1_kron_flux','src_ext_convolved_ConvolvedFlux_1_kron_fluxSigma','src_ext_convolved_ConvolvedFlux_2_3_3_flux','src_ext_convolved_ConvolvedFlux_2_3_3_fluxSigma','src_ext_convolved_ConvolvedFlux_2_4_5_flux','src_ext_convolved_ConvolvedFlux_2_4_5_fluxSigma','src_ext_convolved_ConvolvedFlux_2_6_0_flux','src_ext_convolved_ConvolvedFlux_2_6_0_fluxSigma','src_ext_convolved_ConvolvedFlux_2_kron_flux','src_ext_convolved_ConvolvedFlux_2_kron_fluxSigma','src_ext_convolved_ConvolvedFlux_3_3_3_flux','src_ext_convolved_ConvolvedFlux_3_3_3_fluxSigma','src_ext_convolved_ConvolvedFlux_3_4_5_flux','src_ext_convolved_ConvolvedFlux_3_4_5_fluxSigma','src_ext_convolved_ConvolvedFlux_3_6_0_flux','src_ext_convolved_ConvolvedFlux_3_6_0_fluxSigma','src_ext_convolved_ConvolvedFlux_3_kron_flux','src_ext_convolved_ConvolvedFlux_3_kron_fluxSigma','src_modelfit_CModel_initial_flux','src_modelfit_CModel_initial_fluxSigma','src_modelfit_CModel_initial_flux_inner','src_modelfit_CModel_initial_ellipse_xx','src_modelfit_CModel_initial_ellipse_yy','src_modelfit_CModel_initial_ellipse_xy','src_modelfit_CModel_initial_objective','src_modelfit_CModel_initial_nonlinear_0','src_modelfit_CModel_initial_nonlinear_1','src_modelfit_CModel_initial_nonlinear_2','src_modelfit_CModel_initial_fixed_0','src_modelfit_CModel_initial_fixed_1','src_modelfit_CModel_initial_nIter','src_modelfit_CModel_initial_time','src_modelfit_CModel_exp_flux','src_modelfit_CModel_exp_fluxSigma','src_modelfit_CModel_exp_flux_inner','src_modelfit_CModel_exp_ellipse_xx','src_modelfit_CModel_exp_ellipse_yy','src_modelfit_CModel_exp_ellipse_xy','src_modelfit_CModel_exp_objective','src_modelfit_CModel_exp_nonlinear_0','src_modelfit_CModel_exp_nonlinear_1','src_modelfit_CModel_exp_nonlinear_2','src_modelfit_CModel_exp_fixed_0','src_modelfit_CModel_exp_fixed_1','src_modelfit_CModel_exp_nIter','src_modelfit_CModel_exp_time','src_modelfit_CModel_dev_flux','src_modelfit_CModel_dev_fluxSigma','src_modelfit_CModel_dev_flux_inner','src_modelfit_CModel_dev_ellipse_xx','src_modelfit_CModel_dev_ellipse_yy','src_modelfit_CModel_dev_ellipse_xy','src_modelfit_CModel_dev_objective','src_modelfit_CModel_dev_nonlinear_0','src_modelfit_CModel_dev_nonlinear_1','src_modelfit_CModel_dev_nonlinear_2','src_modelfit_CModel_dev_fixed_0','src_modelfit_CModel_dev_fixed_1','src_modelfit_CModel_dev_nIter','src_modelfit_CModel_dev_time','src_modelfit_CModel_flux','src_modelfit_CModel_fluxSigma','src_modelfit_CModel_flux_inner','src_modelfit_CModel_fracDev','src_modelfit_CModel_objective','src_modelfit_CModel_ellipse_xx','src_modelfit_CModel_ellipse_yy','src_modelfit_CModel_ellipse_xy','src_modelfit_CModel_region_initial_ellipse_xx','src_modelfit_CModel_region_initial_ellipse_yy','src_modelfit_CModel_region_initial_ellipse_xy','src_modelfit_CModel_region_final_ellipse_xx','src_modelfit_CModel_region_final_ellipse_yy','src_modelfit_CModel_region_final_ellipse_xy','src_ext_convolved_ConvolvedFlux_0_6_0_apCorr','src_ext_convolved_ConvolvedFlux_0_6_0_apCorrSigma','src_ext_convolved_ConvolvedFlux_0_3_3_apCorr','src_ext_convolved_ConvolvedFlux_0_3_3_apCorrSigma','src_ext_convolved_ConvolvedFlux_1_6_0_apCorr','src_ext_convolved_ConvolvedFlux_1_6_0_apCorrSigma','src_ext_photometryKron_KronFlux_apCorr','src_ext_photometryKron_KronFlux_apCorrSigma','src_modelfit_CModel_initial_apCorr','src_modelfit_CModel_initial_apCorrSigma','src_ext_convolved_ConvolvedFlux_0_kron_apCorr','src_ext_convolved_ConvolvedFlux_0_kron_apCorrSigma','src_modelfit_CModel_apCorr','src_modelfit_CModel_apCorrSigma','src_ext_convolved_ConvolvedFlux_3_kron_apCorr','src_ext_convolved_ConvolvedFlux_3_kron_apCorrSigma','src_ext_convolved_ConvolvedFlux_1_3_3_apCorr','src_ext_convolved_ConvolvedFlux_1_3_3_apCorrSigma','src_ext_convolved_ConvolvedFlux_3_6_0_apCorr','src_ext_convolved_ConvolvedFlux_3_6_0_apCorrSigma','src_ext_convolved_ConvolvedFlux_2_3_3_apCorr','src_ext_convolved_ConvolvedFlux_2_3_3_apCorrSigma','src_ext_convolved_ConvolvedFlux_3_4_5_apCorr','src_ext_convolved_ConvolvedFlux_3_4_5_apCorrSigma','src_modelfit_CModel_exp_apCorr','src_modelfit_CModel_exp_apCorrSigma','src_ext_convolved_ConvolvedFlux_1_kron_apCorr','src_ext_convolved_ConvolvedFlux_1_kron_apCorrSigma','src_ext_convolved_ConvolvedFlux_2_4_5_apCorr','src_ext_convolved_ConvolvedFlux_2_4_5_apCorrSigma','src_ext_convolved_ConvolvedFlux_2_kron_apCorr','src_ext_convolved_ConvolvedFlux_2_kron_apCorrSigma','src_ext_convolved_ConvolvedFlux_0_4_5_apCorr','src_ext_convolved_ConvolvedFlux_0_4_5_apCorrSigma','src_ext_convolved_ConvolvedFlux_3_3_3_apCorr','src_ext_convolved_ConvolvedFlux_3_3_3_apCorrSigma','src_ext_convolved_ConvolvedFlux_1_4_5_apCorr','src_ext_convolved_ConvolvedFlux_1_4_5_apCorrSigma','src_base_PsfFlux_apCorr','src_base_PsfFlux_apCorrSigma','src_ext_convolved_ConvolvedFlux_2_6_0_apCorr','src_ext_convolved_ConvolvedFlux_2_6_0_apCorrSigma','src_modelfit_CModel_dev_apCorr','src_modelfit_CModel_dev_apCorrSigma','src_base_GaussianFlux_apCorr','src_base_GaussianFlux_apCorrSigma','src_base_ClassificationExtendedness_value','src_base_FootprintArea_value','distance')>\n"
     ]
    }
   ],
   "source": [
    "print(events.columns)"
   ]
  },
  {
   "cell_type": "code",
   "execution_count": 77,
   "id": "998ff79b",
   "metadata": {},
   "outputs": [],
   "source": [
    "event_filename = get_pkg_data_filename('/datasets/hsc/repo/rerun/DM-13666/DEEP/deepCoadd-results/HSC-I/9813/6,7/srcMatch-HSC-I-9813-6,7.fits')\n"
   ]
  },
  {
   "cell_type": "code",
   "execution_count": 78,
   "id": "cbc3e5b2",
   "metadata": {},
   "outputs": [
    {
     "name": "stdout",
     "output_type": "stream",
     "text": [
      "Filename: /datasets/hsc/repo/rerun/DM-13666/DEEP/deepCoadd-results/HSC-I/9813/6,7/srcMatch-HSC-I-9813-6,7.fits\n",
      "No.    Name      Ver    Type      Cards   Dimensions   Format\n",
      "  0  PRIMARY       1 PrimaryHDU       6   ()      \n",
      "  1                1 BinTableHDU     26   1362R x 3C   [1K, 1K, 1D]   \n"
     ]
    }
   ],
   "source": [
    "fits.info(event_filename)"
   ]
  },
  {
   "cell_type": "code",
   "execution_count": 79,
   "id": "f7198966",
   "metadata": {},
   "outputs": [],
   "source": [
    "events = Table.read(event_filename, hdu=1)"
   ]
  },
  {
   "cell_type": "code",
   "execution_count": 80,
   "id": "8633217e",
   "metadata": {},
   "outputs": [
    {
     "name": "stdout",
     "output_type": "stream",
     "text": [
      "<TableColumns names=('first','second','distance')>\n"
     ]
    }
   ],
   "source": [
    "print(events.columns)"
   ]
  },
  {
   "cell_type": "code",
   "execution_count": null,
   "id": "4128ebcd",
   "metadata": {},
   "outputs": [],
   "source": []
  }
 ],
 "metadata": {
  "kernelspec": {
   "display_name": "LSST",
   "language": "python",
   "name": "lsst"
  },
  "language_info": {
   "codemirror_mode": {
    "name": "ipython",
    "version": 3
   },
   "file_extension": ".py",
   "mimetype": "text/x-python",
   "name": "python",
   "nbconvert_exporter": "python",
   "pygments_lexer": "ipython3",
   "version": "3.8.8"
  }
 },
 "nbformat": 4,
 "nbformat_minor": 5
}
